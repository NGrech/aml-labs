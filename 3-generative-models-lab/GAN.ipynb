{
 "cells": [
  {
   "cell_type": "markdown",
   "metadata": {},
   "source": [
    "# Implementing DCGAN on SVHN\n",
    "\n",
    "Data taken from a previous [GAN project based](https://github.com/NGrech/generate-faces/blob/main/dlnd_face_generation.ipynb) and was based on a tutorial by [Udacity](https://github.com/udacity/deep-learning-v2-pytorch/blob/master/dcgan-svhn/DCGAN_Exercise.ipynb) "
   ]
  },
  {
   "cell_type": "markdown",
   "metadata": {},
   "source": [
    "## Imports"
   ]
  },
  {
   "cell_type": "code",
   "execution_count": 56,
   "metadata": {},
   "outputs": [
    {
     "data": {
      "text/plain": [
       "device(type='cuda')"
      ]
     },
     "execution_count": 56,
     "metadata": {},
     "output_type": "execute_result"
    }
   ],
   "source": [
    "import torch\n",
    "import os\n",
    "import torchvision\n",
    "import torch.optim as optim\n",
    "from torch import nn\n",
    "import torch.nn.functional as F\n",
    "from torch.utils.data import DataLoader, Dataset, SubsetRandomSampler\n",
    "from torchvision.transforms import ToTensor, Lambda, Grayscale, Compose, Resize\n",
    "from torchvision import transforms, datasets\n",
    "from torchvision.datasets import FashionMNIST, ImageFolder\n",
    "from matplotlib import pyplot as plt\n",
    "import matplotlib.animation as animation\n",
    "from IPython.display import HTML\n",
    "import torchvision.utils as vutils\n",
    "import numpy as np\n",
    "import pickle as pkl\n",
    "\n",
    "import numpy as np\n",
    "\n",
    "device = torch.device(\"cuda\" if torch.cuda.is_available() else \"cpu\")\n",
    "#device = torch.device(\"cpu\")\n",
    "device"
   ]
  },
  {
   "cell_type": "markdown",
   "metadata": {},
   "source": [
    "## Hyperparameters "
   ]
  },
  {
   "cell_type": "code",
   "execution_count": 22,
   "metadata": {},
   "outputs": [],
   "source": [
    "latent_dimension = 100\n",
    "batch_size = 128\n",
    "num_workers = 0\n",
    "beta1 = 0.5\n",
    "lr = 0.0002\n",
    "num_epochs = 15"
   ]
  },
  {
   "cell_type": "markdown",
   "metadata": {},
   "source": [
    "## Loading Street View House Numbers (SVHN) dataset\n",
    "\n",
    "Data taken from a previous [GAN project based](https://github.com/NGrech/generate-faces/blob/main/dlnd_face_generation.ipynb) and was based on a tutorial by [Udacity](https://github.com/udacity/deep-learning-v2-pytorch/blob/master/dcgan-svhn/DCGAN_Exercise.ipynb) "
   ]
  },
  {
   "cell_type": "code",
   "execution_count": 23,
   "metadata": {},
   "outputs": [
    {
     "name": "stdout",
     "output_type": "stream",
     "text": [
      "Using downloaded and verified file: ../data\\train_32x32.mat\n",
      "Using downloaded and verified file: ../data\\test_32x32.mat\n"
     ]
    }
   ],
   "source": [
    "transform = transforms.Compose([\n",
    "        transforms.ToTensor()\n",
    "    ])    \n",
    "\n",
    "svhn_train = datasets.SVHN(root='../data', split='train', download=True, transform=transform)\n",
    "svhn_test = datasets.SVHN(root='../data', split='test', download=True, transform=transform)\n",
    "\n",
    "\n",
    "train_loader = torch.utils.data.DataLoader(dataset=svhn_train,\n",
    "                                          batch_size=batch_size,\n",
    "                                          shuffle=True,\n",
    "                                          num_workers=num_workers)\n",
    "test_loader = torch.utils.data.DataLoader(dataset=svhn_test,\n",
    "                                          batch_size=batch_size,\n",
    "                                          shuffle=True,\n",
    "                                          num_workers=num_workers)"
   ]
  },
  {
   "cell_type": "markdown",
   "metadata": {},
   "source": [
    "## Helpers "
   ]
  },
  {
   "cell_type": "code",
   "execution_count": 24,
   "metadata": {},
   "outputs": [],
   "source": [
    "def weights_init(m):\n",
    "    classname = m.__class__.__name__\n",
    "    if classname.find('Conv') != -1:\n",
    "        nn.init.normal_(m.weight.data, 0.0, 0.02)\n",
    "    elif classname.find('BatchNorm') != -1:\n",
    "        nn.init.normal_(m.weight.data, 1.0, 0.02)\n",
    "        nn.init.constant_(m.bias.data, 0)"
   ]
  },
  {
   "cell_type": "markdown",
   "metadata": {},
   "source": [
    "## Define Discriminator "
   ]
  },
  {
   "cell_type": "code",
   "execution_count": 25,
   "metadata": {},
   "outputs": [
    {
     "data": {
      "text/plain": [
       "SVHN_Discriminator(\n",
       "  (conv1): Conv2d(3, 32, kernel_size=(4, 4), stride=(2, 2), padding=(1, 1))\n",
       "  (conv2): Sequential(\n",
       "    (0): Conv2d(32, 64, kernel_size=(4, 4), stride=(2, 2), padding=(1, 1))\n",
       "    (1): BatchNorm2d(64, eps=1e-05, momentum=0.1, affine=True, track_running_stats=True)\n",
       "  )\n",
       "  (conv3): Sequential(\n",
       "    (0): Conv2d(64, 128, kernel_size=(4, 4), stride=(2, 2), padding=(1, 1))\n",
       "    (1): BatchNorm2d(128, eps=1e-05, momentum=0.1, affine=True, track_running_stats=True)\n",
       "  )\n",
       "  (fc): Linear(in_features=2048, out_features=1, bias=True)\n",
       ")"
      ]
     },
     "execution_count": 25,
     "metadata": {},
     "output_type": "execute_result"
    }
   ],
   "source": [
    "class SVHN_Discriminator(nn.Module):\n",
    "\n",
    "    def __init__(self):\n",
    "        super(SVHN_Discriminator, self).__init__()\n",
    "        self.conv_dims = 32\n",
    "\n",
    "        self.conv1 = nn.Conv2d(3, self.conv_dims, kernel_size=4, stride=2, padding=1)\n",
    "        self.conv2 = nn.Sequential(\n",
    "            nn.Conv2d(self.conv_dims, self.conv_dims*2, kernel_size=4, stride=2, padding=1),\n",
    "            nn.BatchNorm2d(self.conv_dims*2)\n",
    "        )\n",
    "        self.conv3 = nn.Sequential(\n",
    "            nn.Conv2d(self.conv_dims*2, self.conv_dims*4, kernel_size=4, stride=2, padding=1),\n",
    "            nn.BatchNorm2d(self.conv_dims*4)\n",
    "        )\n",
    "\n",
    "        self.fc = nn.Linear(self.conv_dims*4*4*4, 1)\n",
    "\n",
    "\n",
    "    def forward(self, x):\n",
    "        out = F.leaky_relu(self.conv1(x), 0.2)\n",
    "        out = F.leaky_relu(self.conv2(out), 0.2)\n",
    "        out = F.leaky_relu(self.conv3(out), 0.2)\n",
    "        out = out.view(-1, self.conv_dims*4*4*4)\n",
    "        return torch.sigmoid(self.fc(out))\n",
    "\n",
    "D = SVHN_Discriminator().to(device)\n",
    "D"
   ]
  },
  {
   "cell_type": "markdown",
   "metadata": {},
   "source": [
    "## Define Generator "
   ]
  },
  {
   "cell_type": "code",
   "execution_count": 36,
   "metadata": {},
   "outputs": [
    {
     "data": {
      "text/plain": [
       "SVHN_Generator(\n",
       "  (fc): Linear(in_features=100, out_features=2048, bias=True)\n",
       "  (deconv1): Sequential(\n",
       "    (0): ConvTranspose2d(128, 64, kernel_size=(4, 4), stride=(2, 2), padding=(1, 1))\n",
       "    (1): BatchNorm2d(64, eps=1e-05, momentum=0.1, affine=True, track_running_stats=True)\n",
       "  )\n",
       "  (deconv2): Sequential(\n",
       "    (0): ConvTranspose2d(64, 32, kernel_size=(4, 4), stride=(2, 2), padding=(1, 1))\n",
       "    (1): BatchNorm2d(32, eps=1e-05, momentum=0.1, affine=True, track_running_stats=True)\n",
       "  )\n",
       "  (deconv3): ConvTranspose2d(32, 3, kernel_size=(4, 4), stride=(2, 2), padding=(1, 1))\n",
       ")"
      ]
     },
     "execution_count": 36,
     "metadata": {},
     "output_type": "execute_result"
    }
   ],
   "source": [
    "class SVHN_Generator(nn.Module):\n",
    "    \n",
    "    def __init__(self, z_size):\n",
    "        super(SVHN_Generator, self).__init__()\n",
    "        self.conv_dims = 32\n",
    "\n",
    "        self.fc = nn.Linear(z_size, self.conv_dims*4*4*4)\n",
    "        self.deconv1 = nn.Sequential(\n",
    "            nn.ConvTranspose2d(self.conv_dims*4, self.conv_dims*2,  kernel_size=4, stride=2, padding=1),\n",
    "            nn.BatchNorm2d(self.conv_dims*2)\n",
    "        )\n",
    "        self.deconv2 = nn.Sequential(\n",
    "            nn.ConvTranspose2d(self.conv_dims*2, self.conv_dims,  kernel_size=4, stride=2, padding=1),\n",
    "            nn.BatchNorm2d(self.conv_dims)\n",
    "        )\n",
    "        self.deconv3 = nn.ConvTranspose2d(self.conv_dims, 3,  kernel_size=4, stride=2, padding=1)\n",
    "\n",
    "    def forward(self, z):\n",
    "        out = self.fc(z)\n",
    "        out = out.view(-1, self.conv_dims*4, 4, 4)\n",
    "        out = F.relu(self.deconv1(out))\n",
    "        out = F.relu(self.deconv2(out))\n",
    "        return torch.tanh(self.deconv3(out))\n",
    "\n",
    "G = SVHN_Generator(z_size=100).to(device)\n",
    "G"
   ]
  },
  {
   "cell_type": "markdown",
   "metadata": {},
   "source": [
    "## Initializing weights"
   ]
  },
  {
   "cell_type": "code",
   "execution_count": 27,
   "metadata": {},
   "outputs": [
    {
     "data": {
      "text/plain": [
       "SVHN_Discriminator(\n",
       "  (conv1): Conv2d(3, 32, kernel_size=(4, 4), stride=(2, 2), padding=(1, 1))\n",
       "  (conv2): Sequential(\n",
       "    (0): Conv2d(32, 64, kernel_size=(4, 4), stride=(2, 2), padding=(1, 1))\n",
       "    (1): BatchNorm2d(64, eps=1e-05, momentum=0.1, affine=True, track_running_stats=True)\n",
       "  )\n",
       "  (conv3): Sequential(\n",
       "    (0): Conv2d(64, 128, kernel_size=(4, 4), stride=(2, 2), padding=(1, 1))\n",
       "    (1): BatchNorm2d(128, eps=1e-05, momentum=0.1, affine=True, track_running_stats=True)\n",
       "  )\n",
       "  (fc): Linear(in_features=2048, out_features=1, bias=True)\n",
       ")"
      ]
     },
     "execution_count": 27,
     "metadata": {},
     "output_type": "execute_result"
    }
   ],
   "source": [
    "def weights_init(m):\n",
    "    classname = m.__class__.__name__\n",
    "    if classname.find('Conv') != -1:\n",
    "        nn.init.normal_(m.weight.data, 0.0, 0.02)\n",
    "    elif classname.find('BatchNorm') != -1:\n",
    "        nn.init.normal_(m.weight.data, 1.0, 0.02)\n",
    "        nn.init.constant_(m.bias.data, 0)\n",
    "\n",
    "G.apply(weights_init)\n",
    "D.apply(weights_init)"
   ]
  },
  {
   "cell_type": "markdown",
   "metadata": {},
   "source": [
    "## Training Setup "
   ]
  },
  {
   "cell_type": "code",
   "execution_count": 51,
   "metadata": {},
   "outputs": [],
   "source": [
    "# Initialize Binary Cross Entropy Loss\n",
    "criterion = nn.BCELoss()\n",
    "\n",
    "# Create batch of latent vectors that we will use to visualize\n",
    "#  the progression of the generator\n",
    "sample_size=16\n",
    "fixed_z = np.random.uniform(-1, 1, size=(sample_size, 100))\n",
    "fixed_z = torch.from_numpy(fixed_z).float().to(device)\n",
    "\n",
    "# Establish convention for real and fake labels during training\n",
    "real_label = 1.\n",
    "fake_label = 0.\n",
    "\n",
    "# Setup Adam optimizers for both G and D\n",
    "optimizerD = optim.Adam(D.parameters(), lr=lr, betas=(beta1, 0.999))\n",
    "optimizerG = optim.Adam(D.parameters(), lr=lr, betas=(beta1, 0.999))"
   ]
  },
  {
   "cell_type": "markdown",
   "metadata": {},
   "source": [
    "## Training "
   ]
  },
  {
   "cell_type": "code",
   "execution_count": 65,
   "metadata": {},
   "outputs": [
    {
     "name": "stdout",
     "output_type": "stream",
     "text": [
      "Starting Training Loop...\n",
      "[0/50][0/573]\tLoss_D: 0.0070\tLoss_G: 5.4922\n",
      "[0/50][50/573]\tLoss_D: 0.0095\tLoss_G: 5.3051\n",
      "[0/50][100/573]\tLoss_D: 0.0109\tLoss_G: 5.1504\n",
      "[0/50][150/573]\tLoss_D: 0.0070\tLoss_G: 5.4673\n",
      "[0/50][200/573]\tLoss_D: 0.0103\tLoss_G: 5.1730\n",
      "[0/50][250/573]\tLoss_D: 0.0077\tLoss_G: 5.4310\n",
      "[0/50][300/573]\tLoss_D: 0.0082\tLoss_G: 5.4272\n",
      "[0/50][350/573]\tLoss_D: 0.0084\tLoss_G: 5.3745\n",
      "[0/50][400/573]\tLoss_D: 0.0122\tLoss_G: 5.0535\n",
      "[0/50][450/573]\tLoss_D: 0.0067\tLoss_G: 5.5163\n",
      "[0/50][500/573]\tLoss_D: 0.0113\tLoss_G: 5.0643\n",
      "[0/50][550/573]\tLoss_D: 0.0149\tLoss_G: 4.9885\n",
      "[1/50][0/573]\tLoss_D: 0.0104\tLoss_G: 5.2279\n",
      "[1/50][50/573]\tLoss_D: 0.0079\tLoss_G: 5.3902\n",
      "[1/50][100/573]\tLoss_D: 0.0088\tLoss_G: 5.2928\n",
      "[1/50][150/573]\tLoss_D: 0.0082\tLoss_G: 5.3814\n",
      "[1/50][200/573]\tLoss_D: 0.0091\tLoss_G: 5.2110\n",
      "[1/50][250/573]\tLoss_D: 0.0075\tLoss_G: 5.3951\n",
      "[1/50][300/573]\tLoss_D: 0.0094\tLoss_G: 5.2046\n",
      "[1/50][350/573]\tLoss_D: 0.0088\tLoss_G: 5.2882\n",
      "[1/50][400/573]\tLoss_D: 0.0080\tLoss_G: 5.3312\n",
      "[1/50][450/573]\tLoss_D: 0.0067\tLoss_G: 5.5097\n",
      "[1/50][500/573]\tLoss_D: 0.0074\tLoss_G: 5.3511\n",
      "[1/50][550/573]\tLoss_D: 0.0116\tLoss_G: 5.0545\n",
      "[2/50][0/573]\tLoss_D: 0.0086\tLoss_G: 5.2837\n",
      "[2/50][50/573]\tLoss_D: 0.0084\tLoss_G: 5.3357\n",
      "[2/50][100/573]\tLoss_D: 0.0103\tLoss_G: 5.1286\n",
      "[2/50][150/573]\tLoss_D: 0.0119\tLoss_G: 5.0201\n",
      "[2/50][200/573]\tLoss_D: 0.0065\tLoss_G: 5.5117\n",
      "[2/50][250/573]\tLoss_D: 0.0108\tLoss_G: 5.1155\n",
      "[2/50][300/573]\tLoss_D: 0.0089\tLoss_G: 5.2571\n",
      "[2/50][350/573]\tLoss_D: 0.0082\tLoss_G: 5.2723\n",
      "[2/50][400/573]\tLoss_D: 0.0081\tLoss_G: 5.2903\n",
      "[2/50][450/573]\tLoss_D: 0.0080\tLoss_G: 5.3621\n",
      "[2/50][500/573]\tLoss_D: 0.0104\tLoss_G: 5.0873\n",
      "[2/50][550/573]\tLoss_D: 0.0080\tLoss_G: 5.3008\n",
      "[3/50][0/573]\tLoss_D: 0.0090\tLoss_G: 5.2040\n",
      "[3/50][50/573]\tLoss_D: 0.0071\tLoss_G: 5.4562\n",
      "[3/50][100/573]\tLoss_D: 0.0115\tLoss_G: 5.0434\n",
      "[3/50][150/573]\tLoss_D: 0.0115\tLoss_G: 5.0656\n",
      "[3/50][200/573]\tLoss_D: 0.0083\tLoss_G: 5.3300\n",
      "[3/50][250/573]\tLoss_D: 0.0110\tLoss_G: 5.0856\n",
      "[3/50][300/573]\tLoss_D: 0.0095\tLoss_G: 5.1563\n",
      "[3/50][350/573]\tLoss_D: 0.0085\tLoss_G: 5.2815\n",
      "[3/50][400/573]\tLoss_D: 0.0053\tLoss_G: 5.6710\n",
      "[3/50][450/573]\tLoss_D: 0.0078\tLoss_G: 5.3492\n",
      "[3/50][500/573]\tLoss_D: 0.0083\tLoss_G: 5.2770\n",
      "[3/50][550/573]\tLoss_D: 0.0124\tLoss_G: 4.9961\n",
      "[4/50][0/573]\tLoss_D: 0.0082\tLoss_G: 5.3024\n"
     ]
    }
   ],
   "source": [
    "# Lists to keep track of progress\n",
    "img_list = []\n",
    "G_losses = []\n",
    "D_losses = []\n",
    "iters = 0\n",
    "\n",
    "## For Testing \n",
    "num_epochs = 50\n",
    "\n",
    "print(\"Starting Training Loop...\")\n",
    "# For each epoch\n",
    "for epoch in range(num_epochs):\n",
    "    # For each batch in the dataloader\n",
    "    for i, (real_images, _) in enumerate(train_loader, 0):\n",
    "\n",
    "        # (1) Updating the D net:\n",
    "        D.zero_grad()\n",
    "        \n",
    "        # Format batch\n",
    "        batch_size = real_images.size(0)\n",
    "        real_images = real_images.to(device)\n",
    "\n",
    "        # Forward pass with real images\n",
    "        D_real = D(real_images)\n",
    "        labels = torch.full((batch_size,), real_label, dtype=torch.float, device=device)\n",
    "\n",
    "\n",
    "        errD_real = criterion(D_real.squeeze(), labels)\n",
    "\n",
    "        # Backward pass\n",
    "        errD_real.backward(retain_graph=True)\n",
    "\n",
    "        # Forward pass w/ fakes\n",
    "        # Make some noise \n",
    "        noise = torch.randn(batch_size, latent_dimension, device=device)\n",
    "\n",
    "        # Generate with G\n",
    "        fake = G(noise)\n",
    "\n",
    "        # Classify w/ D\n",
    "        D_fake = D(fake)\n",
    "        labels.fill_(fake_label)\n",
    "\n",
    "        # Get fake error\n",
    "        errD_fake = criterion(D_fake.squeeze(), labels)\n",
    "        \n",
    "        # Backward pass\n",
    "        errD_fake.backward(retain_graph=True)\n",
    "        \n",
    "        # Compute D error \n",
    "        errD = errD_real + errD_fake\n",
    "        optimizerD.step()\n",
    "\n",
    "        # (2) Update G network\n",
    "\n",
    "        G.zero_grad()\n",
    "\n",
    "        D_gen = D(fake)\n",
    "        labels.fill_(real_label)\n",
    "\n",
    "        # Get fake error\n",
    "        errG_fake = criterion(D_gen.squeeze(), labels)\n",
    "        errG_fake.backward(retain_graph=True)\n",
    "        optimizerG.step()\n",
    "\n",
    "\n",
    "         # Output training stats\n",
    "        if i % 50 == 0:\n",
    "            print('[%d/%d][%d/%d]\\tLoss_D: %.4f\\tLoss_G: %.4f'\n",
    "                  % (epoch, num_epochs, i, len(train_loader),\n",
    "                     errD.item(), errG_fake.item()))\n",
    "\n",
    "        # Save Losses for plotting later\n",
    "        G_losses.append(errG_fake.item())\n",
    "        D_losses.append(errD.item())\n",
    "\n",
    "    G.eval() # for generating samples\n",
    "    samples_z = G(fixed_z)\n",
    "    img_list.append(samples_z)\n",
    "    G.train() # back to training mode\n"
   ]
  },
  {
   "cell_type": "code",
   "execution_count": null,
   "metadata": {},
   "outputs": [
    {
     "data": {
      "image/png": "[encoded data removed]",
      "text/plain": [
       "<Figure size 720x360 with 1 Axes>"
      ]
     },
     "metadata": {
      "needs_background": "light"
     },
     "output_type": "display_data"
    }
   ],
   "source": [
    "plt.figure(figsize=(10,5))\n",
    "plt.title(\"Generator and Discriminator Loss During Training\")\n",
    "plt.plot(G_losses,label=\"G\")\n",
    "plt.plot(D_losses,label=\"D\")\n",
    "plt.xlabel(\"iterations\")\n",
    "plt.ylabel(\"Loss\")\n",
    "plt.legend()\n",
    "plt.show()"
   ]
  },
  {
   "cell_type": "code",
   "execution_count": null,
   "metadata": {},
   "outputs": [],
   "source": [
    "# helper function for viewing a list of passed in sample images\n",
    "def view_samples(epoch, samples):\n",
    "    fig, axes = plt.subplots(figsize=(16,4), nrows=2, ncols=8, sharey=True, sharex=True)\n",
    "    for ax, img in zip(axes.flatten(), samples[epoch]):\n",
    "        img = img.detach().cpu().numpy()\n",
    "        img = np.transpose(img, (1, 2, 0))\n",
    "        img = ((img +1)*255 / (2)).astype(np.uint8) # rescale to pixel range (0-255)\n",
    "        ax.xaxis.set_visible(False)\n",
    "        ax.yaxis.set_visible(False)\n",
    "        im = ax.imshow(img.reshape((32,32,3)))\n"
   ]
  },
  {
   "cell_type": "code",
   "execution_count": null,
   "metadata": {},
   "outputs": [
    {
     "ename": "ValueError",
     "evalue": "axes don't match array",
     "output_type": "error",
     "traceback": [
      "\u001b[1;31m---------------------------------------------------------------------------\u001b[0m",
      "\u001b[1;31mValueError\u001b[0m                                Traceback (most recent call last)",
      "\u001b[1;32mc:\\Users\\ngrec\\Documents\\Learning\\Masters\\advanced-ml\\aml-labs\\3-generative-models-lab\\GAN.ipynb Cell 22'\u001b[0m in \u001b[0;36m<cell line: 1>\u001b[1;34m()\u001b[0m\n\u001b[1;32m----> <a href='vscode-notebook-cell:/c%3A/Users/ngrec/Documents/Learning/Masters/advanced-ml/aml-labs/3-generative-models-lab/GAN.ipynb#ch0000027?line=0'>1</a>\u001b[0m _ \u001b[39m=\u001b[39m view_samples(\u001b[39m-\u001b[39;49m\u001b[39m1\u001b[39;49m, img_list)\n",
      "\u001b[1;32mc:\\Users\\ngrec\\Documents\\Learning\\Masters\\advanced-ml\\aml-labs\\3-generative-models-lab\\GAN.ipynb Cell 21'\u001b[0m in \u001b[0;36mview_samples\u001b[1;34m(epoch, samples)\u001b[0m\n\u001b[0;32m      <a href='vscode-notebook-cell:/c%3A/Users/ngrec/Documents/Learning/Masters/advanced-ml/aml-labs/3-generative-models-lab/GAN.ipynb#ch0000026?line=3'>4</a>\u001b[0m \u001b[39mfor\u001b[39;00m ax, img \u001b[39min\u001b[39;00m \u001b[39mzip\u001b[39m(axes\u001b[39m.\u001b[39mflatten(), samples[epoch]):\n\u001b[0;32m      <a href='vscode-notebook-cell:/c%3A/Users/ngrec/Documents/Learning/Masters/advanced-ml/aml-labs/3-generative-models-lab/GAN.ipynb#ch0000026?line=4'>5</a>\u001b[0m     img \u001b[39m=\u001b[39m img\u001b[39m.\u001b[39mdetach()\u001b[39m.\u001b[39mcpu()\u001b[39m.\u001b[39mnumpy()\n\u001b[1;32m----> <a href='vscode-notebook-cell:/c%3A/Users/ngrec/Documents/Learning/Masters/advanced-ml/aml-labs/3-generative-models-lab/GAN.ipynb#ch0000026?line=5'>6</a>\u001b[0m     img \u001b[39m=\u001b[39m np\u001b[39m.\u001b[39;49mtranspose(img, (\u001b[39m1\u001b[39;49m, \u001b[39m2\u001b[39;49m, \u001b[39m0\u001b[39;49m))\n\u001b[0;32m      <a href='vscode-notebook-cell:/c%3A/Users/ngrec/Documents/Learning/Masters/advanced-ml/aml-labs/3-generative-models-lab/GAN.ipynb#ch0000026?line=6'>7</a>\u001b[0m     img \u001b[39m=\u001b[39m ((img \u001b[39m+\u001b[39m\u001b[39m1\u001b[39m)\u001b[39m*\u001b[39m\u001b[39m255\u001b[39m \u001b[39m/\u001b[39m (\u001b[39m2\u001b[39m))\u001b[39m.\u001b[39mastype(np\u001b[39m.\u001b[39muint8) \u001b[39m# rescale to pixel range (0-255)\u001b[39;00m\n\u001b[0;32m      <a href='vscode-notebook-cell:/c%3A/Users/ngrec/Documents/Learning/Masters/advanced-ml/aml-labs/3-generative-models-lab/GAN.ipynb#ch0000026?line=7'>8</a>\u001b[0m     ax\u001b[39m.\u001b[39mxaxis\u001b[39m.\u001b[39mset_visible(\u001b[39mFalse\u001b[39;00m)\n",
      "File \u001b[1;32m<__array_function__ internals>:180\u001b[0m, in \u001b[0;36mtranspose\u001b[1;34m(*args, **kwargs)\u001b[0m\n",
      "File \u001b[1;32mc:\\Users\\ngrec\\AppData\\Local\\pypoetry\\Cache\\virtualenvs\\mau-aml-labs-qgR6-ufm-py3.8\\lib\\site-packages\\numpy\\core\\fromnumeric.py:660\u001b[0m, in \u001b[0;36mtranspose\u001b[1;34m(a, axes)\u001b[0m\n\u001b[0;32m    <a href='file:///c%3A/Users/ngrec/AppData/Local/pypoetry/Cache/virtualenvs/mau-aml-labs-qgR6-ufm-py3.8/lib/site-packages/numpy/core/fromnumeric.py?line=600'>601</a>\u001b[0m \u001b[39m@array_function_dispatch\u001b[39m(_transpose_dispatcher)\n\u001b[0;32m    <a href='file:///c%3A/Users/ngrec/AppData/Local/pypoetry/Cache/virtualenvs/mau-aml-labs-qgR6-ufm-py3.8/lib/site-packages/numpy/core/fromnumeric.py?line=601'>602</a>\u001b[0m \u001b[39mdef\u001b[39;00m \u001b[39mtranspose\u001b[39m(a, axes\u001b[39m=\u001b[39m\u001b[39mNone\u001b[39;00m):\n\u001b[0;32m    <a href='file:///c%3A/Users/ngrec/AppData/Local/pypoetry/Cache/virtualenvs/mau-aml-labs-qgR6-ufm-py3.8/lib/site-packages/numpy/core/fromnumeric.py?line=602'>603</a>\u001b[0m     \u001b[39m\"\"\"\u001b[39;00m\n\u001b[0;32m    <a href='file:///c%3A/Users/ngrec/AppData/Local/pypoetry/Cache/virtualenvs/mau-aml-labs-qgR6-ufm-py3.8/lib/site-packages/numpy/core/fromnumeric.py?line=603'>604</a>\u001b[0m \u001b[39m    Reverse or permute the axes of an array; returns the modified array.\u001b[39;00m\n\u001b[0;32m    <a href='file:///c%3A/Users/ngrec/AppData/Local/pypoetry/Cache/virtualenvs/mau-aml-labs-qgR6-ufm-py3.8/lib/site-packages/numpy/core/fromnumeric.py?line=604'>605</a>\u001b[0m \n\u001b[1;32m   (...)\u001b[0m\n\u001b[0;32m    <a href='file:///c%3A/Users/ngrec/AppData/Local/pypoetry/Cache/virtualenvs/mau-aml-labs-qgR6-ufm-py3.8/lib/site-packages/numpy/core/fromnumeric.py?line=657'>658</a>\u001b[0m \n\u001b[0;32m    <a href='file:///c%3A/Users/ngrec/AppData/Local/pypoetry/Cache/virtualenvs/mau-aml-labs-qgR6-ufm-py3.8/lib/site-packages/numpy/core/fromnumeric.py?line=658'>659</a>\u001b[0m \u001b[39m    \"\"\"\u001b[39;00m\n\u001b[1;32m--> <a href='file:///c%3A/Users/ngrec/AppData/Local/pypoetry/Cache/virtualenvs/mau-aml-labs-qgR6-ufm-py3.8/lib/site-packages/numpy/core/fromnumeric.py?line=659'>660</a>\u001b[0m     \u001b[39mreturn\u001b[39;00m _wrapfunc(a, \u001b[39m'\u001b[39;49m\u001b[39mtranspose\u001b[39;49m\u001b[39m'\u001b[39;49m, axes)\n",
      "File \u001b[1;32mc:\\Users\\ngrec\\AppData\\Local\\pypoetry\\Cache\\virtualenvs\\mau-aml-labs-qgR6-ufm-py3.8\\lib\\site-packages\\numpy\\core\\fromnumeric.py:57\u001b[0m, in \u001b[0;36m_wrapfunc\u001b[1;34m(obj, method, *args, **kwds)\u001b[0m\n\u001b[0;32m     <a href='file:///c%3A/Users/ngrec/AppData/Local/pypoetry/Cache/virtualenvs/mau-aml-labs-qgR6-ufm-py3.8/lib/site-packages/numpy/core/fromnumeric.py?line=53'>54</a>\u001b[0m     \u001b[39mreturn\u001b[39;00m _wrapit(obj, method, \u001b[39m*\u001b[39margs, \u001b[39m*\u001b[39m\u001b[39m*\u001b[39mkwds)\n\u001b[0;32m     <a href='file:///c%3A/Users/ngrec/AppData/Local/pypoetry/Cache/virtualenvs/mau-aml-labs-qgR6-ufm-py3.8/lib/site-packages/numpy/core/fromnumeric.py?line=55'>56</a>\u001b[0m \u001b[39mtry\u001b[39;00m:\n\u001b[1;32m---> <a href='file:///c%3A/Users/ngrec/AppData/Local/pypoetry/Cache/virtualenvs/mau-aml-labs-qgR6-ufm-py3.8/lib/site-packages/numpy/core/fromnumeric.py?line=56'>57</a>\u001b[0m     \u001b[39mreturn\u001b[39;00m bound(\u001b[39m*\u001b[39;49margs, \u001b[39m*\u001b[39;49m\u001b[39m*\u001b[39;49mkwds)\n\u001b[0;32m     <a href='file:///c%3A/Users/ngrec/AppData/Local/pypoetry/Cache/virtualenvs/mau-aml-labs-qgR6-ufm-py3.8/lib/site-packages/numpy/core/fromnumeric.py?line=57'>58</a>\u001b[0m \u001b[39mexcept\u001b[39;00m \u001b[39mTypeError\u001b[39;00m:\n\u001b[0;32m     <a href='file:///c%3A/Users/ngrec/AppData/Local/pypoetry/Cache/virtualenvs/mau-aml-labs-qgR6-ufm-py3.8/lib/site-packages/numpy/core/fromnumeric.py?line=58'>59</a>\u001b[0m     \u001b[39m# A TypeError occurs if the object does have such a method in its\u001b[39;00m\n\u001b[0;32m     <a href='file:///c%3A/Users/ngrec/AppData/Local/pypoetry/Cache/virtualenvs/mau-aml-labs-qgR6-ufm-py3.8/lib/site-packages/numpy/core/fromnumeric.py?line=59'>60</a>\u001b[0m     \u001b[39m# class, but its signature is not identical to that of NumPy's. This\u001b[39;00m\n\u001b[1;32m   (...)\u001b[0m\n\u001b[0;32m     <a href='file:///c%3A/Users/ngrec/AppData/Local/pypoetry/Cache/virtualenvs/mau-aml-labs-qgR6-ufm-py3.8/lib/site-packages/numpy/core/fromnumeric.py?line=63'>64</a>\u001b[0m     \u001b[39m# Call _wrapit from within the except clause to ensure a potential\u001b[39;00m\n\u001b[0;32m     <a href='file:///c%3A/Users/ngrec/AppData/Local/pypoetry/Cache/virtualenvs/mau-aml-labs-qgR6-ufm-py3.8/lib/site-packages/numpy/core/fromnumeric.py?line=64'>65</a>\u001b[0m     \u001b[39m# exception has a traceback chain.\u001b[39;00m\n\u001b[0;32m     <a href='file:///c%3A/Users/ngrec/AppData/Local/pypoetry/Cache/virtualenvs/mau-aml-labs-qgR6-ufm-py3.8/lib/site-packages/numpy/core/fromnumeric.py?line=65'>66</a>\u001b[0m     \u001b[39mreturn\u001b[39;00m _wrapit(obj, method, \u001b[39m*\u001b[39margs, \u001b[39m*\u001b[39m\u001b[39m*\u001b[39mkwds)\n",
      "\u001b[1;31mValueError\u001b[0m: axes don't match array"
     ]
    },
    {
     "data": {
      "image/png": "[encoded data removed]",
      "text/plain": [
       "<Figure size 1152x288 with 16 Axes>"
      ]
     },
     "metadata": {
      "needs_background": "light"
     },
     "output_type": "display_data"
    }
   ],
   "source": [
    "_ = view_samples(-1, img_list)"
   ]
  },
  {
   "cell_type": "code",
   "execution_count": null,
   "metadata": {},
   "outputs": [],
   "source": []
  }
 ],
 "metadata": {
  "interpreter": {
   "hash": "53e10ef9a4a07817da7b339c1ff1fa97ba0660b27848e973d3957442a75fa000"
  },
  "kernelspec": {
   "display_name": "Python 3.8.5 ('mau-aml-labs-qgR6-ufm-py3.8')",
   "language": "python",
   "name": "python3"
  },
  "language_info": {
   "codemirror_mode": {
    "name": "ipython",
    "version": 3
   },
   "file_extension": ".py",
   "mimetype": "text/x-python",
   "name": "python",
   "nbconvert_exporter": "python",
   "pygments_lexer": "ipython3",
   "version": "3.8.5"
  },
  "orig_nbformat": 4
 },
 "nbformat": 4,
 "nbformat_minor": 2
}
