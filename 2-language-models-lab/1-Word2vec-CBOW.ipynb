{
 "cells": [
  {
   "cell_type": "markdown",
   "metadata": {},
   "source": [
    "# Word2Vec - CBOW\n",
    "\n",
    "Based on lab [notebook](https://github.com/aeau/MAU-AML-labs/blob/develop/2-language-models-lab/1-word2vec.ipynb) provided.\n",
    "\n",
    "\n",
    "This notebook covers:\n",
    "1. Continuous Bag Of Words Model"
   ]
  },
  {
   "cell_type": "markdown",
   "metadata": {},
   "source": [
    "## Imports & Setup"
   ]
  },
  {
   "cell_type": "code",
   "execution_count": 11,
   "metadata": {},
   "outputs": [
    {
     "data": {
      "text/plain": [
       "device(type='cpu')"
      ]
     },
     "execution_count": 11,
     "metadata": {},
     "output_type": "execute_result"
    }
   ],
   "source": [
    "import math\n",
    "import torch\n",
    "import torch.linalg\n",
    "import matplotlib.pyplot as plt\n",
    "\n",
    "import plotly.express as px\n",
    "import torch.nn as nn\n",
    "import torch.optim as optim\n",
    "import torch.nn.functional as F\n",
    "\n",
    "device = torch.device(\"cuda\" if torch.cuda.is_available() else \"cpu\")\n",
    "device"
   ]
  },
  {
   "cell_type": "markdown",
   "metadata": {},
   "source": [
    "## Defining Helper functions "
   ]
  },
  {
   "cell_type": "code",
   "execution_count": 12,
   "metadata": {},
   "outputs": [],
   "source": [
    "def create_dataset(text: list, context_size: int):\n",
    "    data = []\n",
    "    for i in range(CONTEXT_SIZE, len(raw_text) - CONTEXT_SIZE):\n",
    "        context = []\n",
    "        for j in range(CONTEXT_SIZE, 0, -1):\n",
    "            context.append(raw_text[i - j])\n",
    "\n",
    "        for j in range(1, CONTEXT_SIZE + 1):\n",
    "            context.append(raw_text[i + j])\n",
    "            \n",
    "        target = raw_text[i]\n",
    "        data.append((context, target))\n",
    "    return data\n",
    "\n",
    "def make_context_vector(context, word_to_ix, debug=False):\n",
    "    if debug:\n",
    "      print(context)\n",
    "    idxs = [word_to_ix[w] for w in context]\n",
    "    return torch.tensor(idxs, dtype=torch.long)"
   ]
  },
  {
   "cell_type": "markdown",
   "metadata": {},
   "source": [
    "## Preparation "
   ]
  },
  {
   "cell_type": "code",
   "execution_count": 13,
   "metadata": {},
   "outputs": [
    {
     "name": "stdout",
     "output_type": "stream",
     "text": [
      "num total words:  152\n",
      "Num unique words:  106\n"
     ]
    }
   ],
   "source": [
    "raw_text= \"\"\"Long Short-Term Memory (LSTM) is a recurrent neural network (RNN) architecture that has been designed\n",
    "to address the vanishing and exploding gradient problems of conventional RNNs. Unlike feedforward neural networks,\n",
    "RNNs have cyclic connections making them powerful for modeling sequences. \n",
    "They have been successfully used for sequence labeling and sequence prediction tasks,\n",
    "such as handwriting recognition, language modeling, phonetic labeling of acoustic frames. However, in contrast to the deep neural\n",
    "networks, the use of RNNs in speech recognition has been limited to phone recognition in small scale tasks. \n",
    "In this paper, we present novel LSTM based RNN architectures which make more effective\n",
    "use of model parameters to train acoustic models for large vocabulary speech recognition. \n",
    "We train and compare LSTM, RNN and DNN models at various numbers of parameters and configurations.\n",
    "We show that LSTM models converge quickly and give state of the art speech recognition performance for relatively small sized models.\"\"\".split()\n",
    "\n",
    "vocab = set(raw_text)\n",
    "vocab_size = len(vocab)\n",
    "word_to_index = {word: i for i, word in enumerate(vocab)}\n",
    "\n",
    "print('num total words: ', len(raw_text))\n",
    "print('Num unique words: ', vocab_size)"
   ]
  },
  {
   "cell_type": "markdown",
   "metadata": {},
   "source": [
    "## Hyperparameter \n"
   ]
  },
  {
   "cell_type": "code",
   "execution_count": 14,
   "metadata": {},
   "outputs": [],
   "source": [
    "CONTEXT_SIZE = 2\n",
    "VOCAB_SIZE = vocab_size\n",
    "EMBEDD_DIM = 10\n",
    "BATCH_SIZE = 6\n",
    "FULL_CONTEXT_SIZE = CONTEXT_SIZE * 2\n",
    "HIDDEN_SIZE = 256"
   ]
  },
  {
   "cell_type": "markdown",
   "metadata": {},
   "source": [
    "## Defining CBOW Model"
   ]
  },
  {
   "cell_type": "code",
   "execution_count": 15,
   "metadata": {},
   "outputs": [],
   "source": [
    "class CBOW(nn.Module):\n",
    "\n",
    "    def __init__(self, vocab_size, embed_dim, context, hidden_size):\n",
    "        super(CBOW, self).__init__()\n",
    "        self.embedding = nn.Embedding(vocab_size, embed_dim)\n",
    "        self.linear = nn.Sequential(\n",
    "            nn.Linear(context*embed_dim, hidden_size),\n",
    "            nn.ReLU(),\n",
    "            nn.Linear(hidden_size, vocab_size),\n",
    "            nn.LogSoftmax(dim = -1)\n",
    "        )\n",
    "        \n",
    "    def forward(self, inputs):\n",
    "        out = self.embedding(inputs)\n",
    "        out = out.view(1, -1)\n",
    "        out = self.linear(out)\n",
    "        return out\n",
    "\n",
    "    def get_word_vector(self, word):\n",
    "        out = self.embedding(word)\n",
    "        return out\n",
    "\n",
    "    def get_embedding(self, word_index):\n",
    "        wi = torch.tensor([word_index]).to(device)\n",
    "        return self.embedding(wi).view(1,-1)"
   ]
  },
  {
   "cell_type": "markdown",
   "metadata": {},
   "source": [
    "## Defining Train function "
   ]
  },
  {
   "cell_type": "code",
   "execution_count": 16,
   "metadata": {},
   "outputs": [],
   "source": [
    "def train(model, epochs, data, optimizer, criterion):\n",
    "    model.train()\n",
    "    losses = []\n",
    "    for _ in range(epochs):\n",
    "        total_loss = 0\n",
    "        for context, target in data:\n",
    "\n",
    "            # Prepare inputs and targets \n",
    "            context_idxs = make_context_vector(context, word_to_index)\n",
    "            context_idxs = context_idxs.to(device)\n",
    "            target_id = make_context_vector([target], word_to_index)\n",
    "            target_id = target_id.to(device)\n",
    "\n",
    "            # Do not accumulate \n",
    "            model.zero_grad()\n",
    "\n",
    "            # Step 3. Run the forward pass\n",
    "            log_probs = model(context_idxs)\n",
    "\n",
    "            # Step 4. Compute your loss function.\n",
    "            loss = criterion(log_probs, target_id)\n",
    "\n",
    "\n",
    "            # Step 5. Do the backward pass and update the gradient\n",
    "            loss.backward()\n",
    "            optimizer.step()\n",
    "\n",
    "            # Get the Python number from a 1-element Tensor by calling tensor.item()\n",
    "            total_loss += loss.item()\n",
    "        losses.append(total_loss)\n",
    "    return losses"
   ]
  },
  {
   "cell_type": "markdown",
   "metadata": {},
   "source": [
    "## Training CBOW Model"
   ]
  },
  {
   "cell_type": "code",
   "execution_count": 17,
   "metadata": {},
   "outputs": [],
   "source": [
    "datset = create_dataset(raw_text, CONTEXT_SIZE)\n",
    "\n",
    "criterion = nn.NLLLoss()\n",
    "model = CBOW(VOCAB_SIZE, EMBEDD_DIM, FULL_CONTEXT_SIZE, HIDDEN_SIZE)\n",
    "model = model.to(device)\n",
    "optimizer = optim.SGD(model.parameters(), lr=0.001)\n",
    "\n",
    "losses = train(model, 100, datset, optimizer, criterion)"
   ]
  },
  {
   "cell_type": "code",
   "execution_count": 18,
   "metadata": {},
   "outputs": [
    {
     "data": {
      "application/vnd.plotly.v1+json": {
       "config": {
        "plotlyServerURL": "https://plot.ly"
       },
       "data": [
        {
         "hovertemplate": "variable=0<br>index=%{x}<br>value=%{y}<extra></extra>",
         "legendgroup": "0",
         "line": {
          "color": "#636efa",
          "dash": "solid"
         },
         "marker": {
          "symbol": "circle"
         },
         "mode": "lines",
         "name": "0",
         "orientation": "v",
         "showlegend": true,
         "type": "scatter",
         "x": [
          0,
          1,
          2,
          3,
          4,
          5,
          6,
          7,
          8,
          9,
          10,
          11,
          12,
          13,
          14,
          15,
          16,
          17,
          18,
          19,
          20,
          21,
          22,
          23,
          24,
          25,
          26,
          27,
          28,
          29,
          30,
          31,
          32,
          33,
          34,
          35,
          36,
          37,
          38,
          39,
          40,
          41,
          42,
          43,
          44,
          45,
          46,
          47,
          48,
          49,
          50,
          51,
          52,
          53,
          54,
          55,
          56,
          57,
          58,
          59,
          60,
          61,
          62,
          63,
          64,
          65,
          66,
          67,
          68,
          69,
          70,
          71,
          72,
          73,
          74,
          75,
          76,
          77,
          78,
          79,
          80,
          81,
          82,
          83,
          84,
          85,
          86,
          87,
          88,
          89,
          90,
          91,
          92,
          93,
          94,
          95,
          96,
          97,
          98,
          99
         ],
         "xaxis": "x",
         "y": [
          694.0521721839905,
          686.5606641769409,
          679.1842801570892,
          671.9154894351959,
          664.7484376430511,
          657.6786153316498,
          650.6992194652557,
          643.8026947975159,
          636.9833979606628,
          630.2365097999573,
          623.5599660873413,
          616.9483218193054,
          610.3965268135071,
          603.9055600166321,
          597.4706208705902,
          591.0885059833527,
          584.7494931221008,
          578.4576468467712,
          572.2055826187134,
          565.9901449680328,
          559.8066567182541,
          553.650642156601,
          547.5188555717468,
          541.4078993797302,
          535.3169468641281,
          529.2398955821991,
          523.1758617162704,
          517.1196842193604,
          511.06934010982513,
          505.02248787879944,
          498.9829121828079,
          492.9475258588791,
          486.9149423837662,
          480.88061398267746,
          474.84466338157654,
          468.8056946992874,
          462.7618087530136,
          456.7114927172661,
          450.65813487768173,
          444.5988401770592,
          438.53482407331467,
          432.46723687648773,
          426.39521354436874,
          420.3232063949108,
          414.25069707632065,
          408.1787728667259,
          402.10360983014107,
          396.0302603840828,
          389.9624188244343,
          383.89940187335014,
          377.84540432691574,
          371.79983499646187,
          365.76459512114525,
          359.741225451231,
          353.72940838336945,
          347.7342636883259,
          341.75962698459625,
          335.80117642879486,
          329.86663138866425,
          323.95290327072144,
          318.06281201541424,
          312.1985073387623,
          306.3624278753996,
          300.5567091703415,
          294.7848305851221,
          289.0505875647068,
          283.349628046155,
          277.69327369332314,
          272.0739741772413,
          266.5031301677227,
          260.97971826791763,
          255.50667968392372,
          250.08246806263924,
          244.71237102150917,
          239.39988550543785,
          234.14489975571632,
          228.9487555027008,
          223.8178984671831,
          218.751767501235,
          213.75068426132202,
          208.8221033141017,
          203.96098464727402,
          199.17268324643373,
          194.45887364447117,
          189.82118882983923,
          185.2595295906067,
          180.7781429514289,
          176.37547930330038,
          172.05451919138432,
          167.81377827376127,
          163.6547177284956,
          159.5785101428628,
          155.58428373932838,
          151.67561353743076,
          147.85088757425547,
          144.11130925267935,
          140.458328448236,
          136.88611808419228,
          133.4006048962474,
          129.99838165938854
         ],
         "yaxis": "y"
        }
       ],
       "layout": {
        "legend": {
         "title": {
          "text": "variable"
         },
         "tracegroupgap": 0
        },
        "template": {
         "data": {
          "bar": [
           {
            "error_x": {
             "color": "#2a3f5f"
            },
            "error_y": {
             "color": "#2a3f5f"
            },
            "marker": {
             "line": {
              "color": "#E5ECF6",
              "width": 0.5
             },
             "pattern": {
              "fillmode": "overlay",
              "size": 10,
              "solidity": 0.2
             }
            },
            "type": "bar"
           }
          ],
          "barpolar": [
           {
            "marker": {
             "line": {
              "color": "#E5ECF6",
              "width": 0.5
             },
             "pattern": {
              "fillmode": "overlay",
              "size": 10,
              "solidity": 0.2
             }
            },
            "type": "barpolar"
           }
          ],
          "carpet": [
           {
            "aaxis": {
             "endlinecolor": "#2a3f5f",
             "gridcolor": "white",
             "linecolor": "white",
             "minorgridcolor": "white",
             "startlinecolor": "#2a3f5f"
            },
            "baxis": {
             "endlinecolor": "#2a3f5f",
             "gridcolor": "white",
             "linecolor": "white",
             "minorgridcolor": "white",
             "startlinecolor": "#2a3f5f"
            },
            "type": "carpet"
           }
          ],
          "choropleth": [
           {
            "colorbar": {
             "outlinewidth": 0,
             "ticks": ""
            },
            "type": "choropleth"
           }
          ],
          "contour": [
           {
            "colorbar": {
             "outlinewidth": 0,
             "ticks": ""
            },
            "colorscale": [
             [
              0,
              "#0d0887"
             ],
             [
              0.1111111111111111,
              "#46039f"
             ],
             [
              0.2222222222222222,
              "#7201a8"
             ],
             [
              0.3333333333333333,
              "#9c179e"
             ],
             [
              0.4444444444444444,
              "#bd3786"
             ],
             [
              0.5555555555555556,
              "#d8576b"
             ],
             [
              0.6666666666666666,
              "#ed7953"
             ],
             [
              0.7777777777777778,
              "#fb9f3a"
             ],
             [
              0.8888888888888888,
              "#fdca26"
             ],
             [
              1,
              "#f0f921"
             ]
            ],
            "type": "contour"
           }
          ],
          "contourcarpet": [
           {
            "colorbar": {
             "outlinewidth": 0,
             "ticks": ""
            },
            "type": "contourcarpet"
           }
          ],
          "heatmap": [
           {
            "colorbar": {
             "outlinewidth": 0,
             "ticks": ""
            },
            "colorscale": [
             [
              0,
              "#0d0887"
             ],
             [
              0.1111111111111111,
              "#46039f"
             ],
             [
              0.2222222222222222,
              "#7201a8"
             ],
             [
              0.3333333333333333,
              "#9c179e"
             ],
             [
              0.4444444444444444,
              "#bd3786"
             ],
             [
              0.5555555555555556,
              "#d8576b"
             ],
             [
              0.6666666666666666,
              "#ed7953"
             ],
             [
              0.7777777777777778,
              "#fb9f3a"
             ],
             [
              0.8888888888888888,
              "#fdca26"
             ],
             [
              1,
              "#f0f921"
             ]
            ],
            "type": "heatmap"
           }
          ],
          "heatmapgl": [
           {
            "colorbar": {
             "outlinewidth": 0,
             "ticks": ""
            },
            "colorscale": [
             [
              0,
              "#0d0887"
             ],
             [
              0.1111111111111111,
              "#46039f"
             ],
             [
              0.2222222222222222,
              "#7201a8"
             ],
             [
              0.3333333333333333,
              "#9c179e"
             ],
             [
              0.4444444444444444,
              "#bd3786"
             ],
             [
              0.5555555555555556,
              "#d8576b"
             ],
             [
              0.6666666666666666,
              "#ed7953"
             ],
             [
              0.7777777777777778,
              "#fb9f3a"
             ],
             [
              0.8888888888888888,
              "#fdca26"
             ],
             [
              1,
              "#f0f921"
             ]
            ],
            "type": "heatmapgl"
           }
          ],
          "histogram": [
           {
            "marker": {
             "pattern": {
              "fillmode": "overlay",
              "size": 10,
              "solidity": 0.2
             }
            },
            "type": "histogram"
           }
          ],
          "histogram2d": [
           {
            "colorbar": {
             "outlinewidth": 0,
             "ticks": ""
            },
            "colorscale": [
             [
              0,
              "#0d0887"
             ],
             [
              0.1111111111111111,
              "#46039f"
             ],
             [
              0.2222222222222222,
              "#7201a8"
             ],
             [
              0.3333333333333333,
              "#9c179e"
             ],
             [
              0.4444444444444444,
              "#bd3786"
             ],
             [
              0.5555555555555556,
              "#d8576b"
             ],
             [
              0.6666666666666666,
              "#ed7953"
             ],
             [
              0.7777777777777778,
              "#fb9f3a"
             ],
             [
              0.8888888888888888,
              "#fdca26"
             ],
             [
              1,
              "#f0f921"
             ]
            ],
            "type": "histogram2d"
           }
          ],
          "histogram2dcontour": [
           {
            "colorbar": {
             "outlinewidth": 0,
             "ticks": ""
            },
            "colorscale": [
             [
              0,
              "#0d0887"
             ],
             [
              0.1111111111111111,
              "#46039f"
             ],
             [
              0.2222222222222222,
              "#7201a8"
             ],
             [
              0.3333333333333333,
              "#9c179e"
             ],
             [
              0.4444444444444444,
              "#bd3786"
             ],
             [
              0.5555555555555556,
              "#d8576b"
             ],
             [
              0.6666666666666666,
              "#ed7953"
             ],
             [
              0.7777777777777778,
              "#fb9f3a"
             ],
             [
              0.8888888888888888,
              "#fdca26"
             ],
             [
              1,
              "#f0f921"
             ]
            ],
            "type": "histogram2dcontour"
           }
          ],
          "mesh3d": [
           {
            "colorbar": {
             "outlinewidth": 0,
             "ticks": ""
            },
            "type": "mesh3d"
           }
          ],
          "parcoords": [
           {
            "line": {
             "colorbar": {
              "outlinewidth": 0,
              "ticks": ""
             }
            },
            "type": "parcoords"
           }
          ],
          "pie": [
           {
            "automargin": true,
            "type": "pie"
           }
          ],
          "scatter": [
           {
            "fillpattern": {
             "fillmode": "overlay",
             "size": 10,
             "solidity": 0.2
            },
            "type": "scatter"
           }
          ],
          "scatter3d": [
           {
            "line": {
             "colorbar": {
              "outlinewidth": 0,
              "ticks": ""
             }
            },
            "marker": {
             "colorbar": {
              "outlinewidth": 0,
              "ticks": ""
             }
            },
            "type": "scatter3d"
           }
          ],
          "scattercarpet": [
           {
            "marker": {
             "colorbar": {
              "outlinewidth": 0,
              "ticks": ""
             }
            },
            "type": "scattercarpet"
           }
          ],
          "scattergeo": [
           {
            "marker": {
             "colorbar": {
              "outlinewidth": 0,
              "ticks": ""
             }
            },
            "type": "scattergeo"
           }
          ],
          "scattergl": [
           {
            "marker": {
             "colorbar": {
              "outlinewidth": 0,
              "ticks": ""
             }
            },
            "type": "scattergl"
           }
          ],
          "scattermapbox": [
           {
            "marker": {
             "colorbar": {
              "outlinewidth": 0,
              "ticks": ""
             }
            },
            "type": "scattermapbox"
           }
          ],
          "scatterpolar": [
           {
            "marker": {
             "colorbar": {
              "outlinewidth": 0,
              "ticks": ""
             }
            },
            "type": "scatterpolar"
           }
          ],
          "scatterpolargl": [
           {
            "marker": {
             "colorbar": {
              "outlinewidth": 0,
              "ticks": ""
             }
            },
            "type": "scatterpolargl"
           }
          ],
          "scatterternary": [
           {
            "marker": {
             "colorbar": {
              "outlinewidth": 0,
              "ticks": ""
             }
            },
            "type": "scatterternary"
           }
          ],
          "surface": [
           {
            "colorbar": {
             "outlinewidth": 0,
             "ticks": ""
            },
            "colorscale": [
             [
              0,
              "#0d0887"
             ],
             [
              0.1111111111111111,
              "#46039f"
             ],
             [
              0.2222222222222222,
              "#7201a8"
             ],
             [
              0.3333333333333333,
              "#9c179e"
             ],
             [
              0.4444444444444444,
              "#bd3786"
             ],
             [
              0.5555555555555556,
              "#d8576b"
             ],
             [
              0.6666666666666666,
              "#ed7953"
             ],
             [
              0.7777777777777778,
              "#fb9f3a"
             ],
             [
              0.8888888888888888,
              "#fdca26"
             ],
             [
              1,
              "#f0f921"
             ]
            ],
            "type": "surface"
           }
          ],
          "table": [
           {
            "cells": {
             "fill": {
              "color": "#EBF0F8"
             },
             "line": {
              "color": "white"
             }
            },
            "header": {
             "fill": {
              "color": "#C8D4E3"
             },
             "line": {
              "color": "white"
             }
            },
            "type": "table"
           }
          ]
         },
         "layout": {
          "annotationdefaults": {
           "arrowcolor": "#2a3f5f",
           "arrowhead": 0,
           "arrowwidth": 1
          },
          "autotypenumbers": "strict",
          "coloraxis": {
           "colorbar": {
            "outlinewidth": 0,
            "ticks": ""
           }
          },
          "colorscale": {
           "diverging": [
            [
             0,
             "#8e0152"
            ],
            [
             0.1,
             "#c51b7d"
            ],
            [
             0.2,
             "#de77ae"
            ],
            [
             0.3,
             "#f1b6da"
            ],
            [
             0.4,
             "#fde0ef"
            ],
            [
             0.5,
             "#f7f7f7"
            ],
            [
             0.6,
             "#e6f5d0"
            ],
            [
             0.7,
             "#b8e186"
            ],
            [
             0.8,
             "#7fbc41"
            ],
            [
             0.9,
             "#4d9221"
            ],
            [
             1,
             "#276419"
            ]
           ],
           "sequential": [
            [
             0,
             "#0d0887"
            ],
            [
             0.1111111111111111,
             "#46039f"
            ],
            [
             0.2222222222222222,
             "#7201a8"
            ],
            [
             0.3333333333333333,
             "#9c179e"
            ],
            [
             0.4444444444444444,
             "#bd3786"
            ],
            [
             0.5555555555555556,
             "#d8576b"
            ],
            [
             0.6666666666666666,
             "#ed7953"
            ],
            [
             0.7777777777777778,
             "#fb9f3a"
            ],
            [
             0.8888888888888888,
             "#fdca26"
            ],
            [
             1,
             "#f0f921"
            ]
           ],
           "sequentialminus": [
            [
             0,
             "#0d0887"
            ],
            [
             0.1111111111111111,
             "#46039f"
            ],
            [
             0.2222222222222222,
             "#7201a8"
            ],
            [
             0.3333333333333333,
             "#9c179e"
            ],
            [
             0.4444444444444444,
             "#bd3786"
            ],
            [
             0.5555555555555556,
             "#d8576b"
            ],
            [
             0.6666666666666666,
             "#ed7953"
            ],
            [
             0.7777777777777778,
             "#fb9f3a"
            ],
            [
             0.8888888888888888,
             "#fdca26"
            ],
            [
             1,
             "#f0f921"
            ]
           ]
          },
          "colorway": [
           "#636efa",
           "#EF553B",
           "#00cc96",
           "#ab63fa",
           "#FFA15A",
           "#19d3f3",
           "#FF6692",
           "#B6E880",
           "#FF97FF",
           "#FECB52"
          ],
          "font": {
           "color": "#2a3f5f"
          },
          "geo": {
           "bgcolor": "white",
           "lakecolor": "white",
           "landcolor": "#E5ECF6",
           "showlakes": true,
           "showland": true,
           "subunitcolor": "white"
          },
          "hoverlabel": {
           "align": "left"
          },
          "hovermode": "closest",
          "mapbox": {
           "style": "light"
          },
          "paper_bgcolor": "white",
          "plot_bgcolor": "#E5ECF6",
          "polar": {
           "angularaxis": {
            "gridcolor": "white",
            "linecolor": "white",
            "ticks": ""
           },
           "bgcolor": "#E5ECF6",
           "radialaxis": {
            "gridcolor": "white",
            "linecolor": "white",
            "ticks": ""
           }
          },
          "scene": {
           "xaxis": {
            "backgroundcolor": "#E5ECF6",
            "gridcolor": "white",
            "gridwidth": 2,
            "linecolor": "white",
            "showbackground": true,
            "ticks": "",
            "zerolinecolor": "white"
           },
           "yaxis": {
            "backgroundcolor": "#E5ECF6",
            "gridcolor": "white",
            "gridwidth": 2,
            "linecolor": "white",
            "showbackground": true,
            "ticks": "",
            "zerolinecolor": "white"
           },
           "zaxis": {
            "backgroundcolor": "#E5ECF6",
            "gridcolor": "white",
            "gridwidth": 2,
            "linecolor": "white",
            "showbackground": true,
            "ticks": "",
            "zerolinecolor": "white"
           }
          },
          "shapedefaults": {
           "line": {
            "color": "#2a3f5f"
           }
          },
          "ternary": {
           "aaxis": {
            "gridcolor": "white",
            "linecolor": "white",
            "ticks": ""
           },
           "baxis": {
            "gridcolor": "white",
            "linecolor": "white",
            "ticks": ""
           },
           "bgcolor": "#E5ECF6",
           "caxis": {
            "gridcolor": "white",
            "linecolor": "white",
            "ticks": ""
           }
          },
          "title": {
           "x": 0.05
          },
          "xaxis": {
           "automargin": true,
           "gridcolor": "white",
           "linecolor": "white",
           "ticks": "",
           "title": {
            "standoff": 15
           },
           "zerolinecolor": "white",
           "zerolinewidth": 2
          },
          "yaxis": {
           "automargin": true,
           "gridcolor": "white",
           "linecolor": "white",
           "ticks": "",
           "title": {
            "standoff": 15
           },
           "zerolinecolor": "white",
           "zerolinewidth": 2
          }
         }
        },
        "title": {
         "text": "Loss"
        },
        "xaxis": {
         "anchor": "y",
         "domain": [
          0,
          1
         ],
         "title": {
          "text": "Epoch"
         }
        },
        "yaxis": {
         "anchor": "x",
         "domain": [
          0,
          1
         ],
         "title": {
          "text": "Loss"
         }
        }
       }
      }
     },
     "metadata": {},
     "output_type": "display_data"
    }
   ],
   "source": [
    "fig = px.line(losses, title=\"Loss\")\n",
    "fig.update_layout(\n",
    "    xaxis_title=\"Epoch\",\n",
    "    yaxis_title=\"Loss\",)\n",
    "fig.show()"
   ]
  },
  {
   "cell_type": "code",
   "execution_count": 19,
   "metadata": {},
   "outputs": [
    {
     "name": "stdout",
     "output_type": "stream",
     "text": [
      "neural\n",
      "network\n",
      "3.6370749785671506\n",
      "tensor(3.6371, grad_fn=<LinalgVectorNormBackward0>)\n",
      "tensor(1.9752, grad_fn=<LinalgVectorNormBackward0>)\n",
      "tensor(-3.8827, grad_fn=<DotBackward0>)\n",
      "Distance between 'neural' & 'network' : 4.9895\n",
      "Similarity between 'neural' & 'network' : -0.5405\n"
     ]
    }
   ],
   "source": [
    "def similarity_cbow(word_1, word_2):\n",
    "    \n",
    "    # test word similarity\n",
    "    print(word_1)\n",
    "    print(word_2)\n",
    "    w1_id = torch.tensor(word_to_index[word_1], dtype=torch.long)\n",
    "    w2_id = torch.tensor(word_to_index[word_2], dtype=torch.long)\n",
    "    w1_id = w1_id.to(device)\n",
    "    w2_id = w2_id.to(device)\n",
    "    \n",
    "    word_1_vec = model.get_word_vector(w1_id)\n",
    "    word_2_vec = model.get_word_vector(w2_id)\n",
    "    \n",
    "    # The norm of a vector (1D-matrix) is the square root of the sum of all the squared values within the vector.\n",
    "    print(math.sqrt(torch.square(word_1_vec).sum()))    \n",
    "    print(torch.linalg.norm(word_1_vec))\n",
    "    print(torch.linalg.norm(word_2_vec))\n",
    "    print(word_1_vec.dot(word_2_vec))\n",
    "    \n",
    "    word_distance = torch.linalg.norm(word_1_vec - word_2_vec)\n",
    "    print(\"Distance between '{}' & '{}' : {:0.4f}\".format(word_1, word_2, word_distance))\n",
    "    word_similarity = (word_1_vec.dot(word_2_vec) / (torch.linalg.norm(word_1_vec) * torch.linalg.norm(word_2_vec)))\n",
    "    print(\"Similarity between '{}' & '{}' : {:0.4f}\".format(word_1, word_2, word_similarity))\n",
    "\n",
    "\n",
    "similarity_cbow(\"neural\", \"network\")"
   ]
  },
  {
   "cell_type": "code",
   "execution_count": 20,
   "metadata": {},
   "outputs": [
    {
     "data": {
      "image/png": "[encoded data removed]",
      "text/plain": [
       "<Figure size 1080x720 with 1 Axes>"
      ]
     },
     "metadata": {
      "needs_background": "light"
     },
     "output_type": "display_data"
    }
   ],
   "source": [
    "plt.figure(figsize=(15,10))\n",
    "for w in vocab:\n",
    "    x = model.get_embedding(word_to_index[w]).detach().data.cpu().numpy()[0][0]\n",
    "    y = model.get_embedding(word_to_index[w]).detach().data.cpu().numpy()[0][1]\n",
    "    plt.scatter(x, y)\n",
    "    plt.annotate(w, xy=(x, y), xytext=(5, 2), textcoords='offset points', ha='right', va='bottom')\n",
    "plt.show()"
   ]
  },
  {
   "cell_type": "code",
   "execution_count": 21,
   "metadata": {},
   "outputs": [
    {
     "name": "stdout",
     "output_type": "stream",
     "text": [
      "['a', 'recurrent'] and ['network', 'is']\n",
      "['LSTM', 'is'] RNN ['recurrent', 'neural']\n"
     ]
    }
   ],
   "source": [
    "def predict_middle_word(prev_words, post_words):\n",
    "    \n",
    "    key_list = list(word_to_index.keys())\n",
    "    val_list = list(word_to_index.values())\n",
    "\n",
    "    prev_words = prev_words.split()\n",
    "    post_words = post_words.split()\n",
    "\n",
    "    input_words= make_context_vector(prev_words + post_words, word_to_index)\n",
    "    input_words = input_words.to(device)\n",
    "    output = model(input_words)\n",
    "    out_ind = output.argmax(1)\n",
    "    out_word = key_list[val_list.index(out_ind.item())]\n",
    "    print(prev_words, out_word, post_words)\n",
    "\n",
    "predict_middle_word(\"a recurrent\", \"network is\")\n",
    "predict_middle_word(\"LSTM is\", \"recurrent neural\")"
   ]
  }
 ],
 "metadata": {
  "interpreter": {
   "hash": "53e10ef9a4a07817da7b339c1ff1fa97ba0660b27848e973d3957442a75fa000"
  },
  "kernelspec": {
   "display_name": "Python 3.8.5 ('mau-aml-labs-qgR6-ufm-py3.8')",
   "language": "python",
   "name": "python3"
  },
  "language_info": {
   "codemirror_mode": {
    "name": "ipython",
    "version": 3
   },
   "file_extension": ".py",
   "mimetype": "text/x-python",
   "name": "python",
   "nbconvert_exporter": "python",
   "pygments_lexer": "ipython3",
   "version": "3.8.5"
  },
  "orig_nbformat": 4
 },
 "nbformat": 4,
 "nbformat_minor": 2
}
