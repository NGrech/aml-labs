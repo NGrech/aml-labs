{
 "cells": [
  {
   "cell_type": "code",
   "execution_count": 2,
   "metadata": {},
   "outputs": [
    {
     "data": {
      "text/plain": [
       "device(type='cuda')"
      ]
     },
     "execution_count": 2,
     "metadata": {},
     "output_type": "execute_result"
    }
   ],
   "source": [
    "from __future__ import unicode_literals, print_function, division\n",
    "from io import open\n",
    "import glob\n",
    "import os\n",
    "import unicodedata\n",
    "import string\n",
    "import random\n",
    "import time\n",
    "import math\n",
    "import pandas as pd\n",
    "import torch\n",
    "import torch.nn as nn\n",
    "import torch.optim as optim\n",
    "from torch.optim import lr_scheduler\n",
    "\n",
    "import matplotlib.pyplot as plt\n",
    "import matplotlib.ticker as ticker\n",
    "\n",
    "device = torch.device(\"cuda\" if torch.cuda.is_available() else \"cpu\")\n",
    "device"
   ]
  },
  {
   "cell_type": "code",
   "execution_count": 3,
   "metadata": {},
   "outputs": [],
   "source": [
    "n_iters = 100000\n",
    "print_every = 5000\n",
    "plot_every = 1000"
   ]
  },
  {
   "cell_type": "code",
   "execution_count": 4,
   "metadata": {},
   "outputs": [],
   "source": [
    "# Vocabulary\n",
    "all_letters = string.ascii_letters + \" .,;'\"\n",
    "n_letters = len(all_letters)\n",
    "\n",
    "# Turn a Unicode string to plain ASCII, thanks to https://stackoverflow.com/a/518232/2809427\n",
    "def unicodeToAscii(s):\n",
    "    return ''.join(\n",
    "        c for c in unicodedata.normalize('NFD', s)\n",
    "        if unicodedata.category(c) != 'Mn'\n",
    "        and c in all_letters\n",
    "    )\n",
    "\n",
    "def readLines(filename):\n",
    "    lines = open(filename, encoding='utf-8').read().strip().split('\\n')\n",
    "    return [unicodeToAscii(line) for line in lines]\n",
    "\n",
    "def findFiles(path): return glob.glob(path)"
   ]
  },
  {
   "cell_type": "code",
   "execution_count": 5,
   "metadata": {},
   "outputs": [
    {
     "name": "stdout",
     "output_type": "stream",
     "text": [
      "50\n"
     ]
    }
   ],
   "source": [
    "data_dir = os.path.join(os.pardir, 'data', 'worldcities.csv')\n",
    "raw_df = pd.read_csv(data_dir)[['city_ascii', 'country']]\n",
    "\n",
    "# Listing all cities for each country\n",
    "grouped_cities = raw_df.groupby('country')['city_ascii'].apply(list).reset_index(name='cities')\n",
    "\n",
    "# Removing all countries where number of cities < 100\n",
    "city_count = raw_df.groupby('country').count().reset_index()\n",
    "countries_to_keep = city_count[city_count.city_ascii > 100].country\n",
    "grouped_cities = grouped_cities[grouped_cities.country.isin(countries_to_keep)]\n",
    "\n",
    "\n",
    "# Preparing country city dict and label list\n",
    "all_countries = grouped_cities['country'].unique().tolist()\n",
    "city_dict = {country: city_lst for country, city_lst in grouped_cities.to_numpy()}\n",
    "n_categories = len(all_countries)\n",
    "print(n_categories)"
   ]
  },
  {
   "cell_type": "code",
   "execution_count": 6,
   "metadata": {},
   "outputs": [],
   "source": [
    "# Find letter index from all_letters, e.g. \"a\" = 0\n",
    "def letterToIndex(letter):\n",
    "    return all_letters.find(letter)\n",
    "\n",
    "# Just for demonstration, turn a letter into a <1 x n_letters> Tensor\n",
    "def letterToTensor(letter):\n",
    "    tensor = torch.zeros(1, n_letters)\n",
    "    tensor[0][letterToIndex(letter)] = 1\n",
    "    return tensor\n",
    "\n",
    "# Turn a line into a <line_length x 1 x n_letters>,\n",
    "# or an array of one-hot letter vectors\n",
    "def lineToTensor(line):\n",
    "    tensor = torch.zeros(len(line), 1, n_letters)\n",
    "    for li, letter in enumerate(line):\n",
    "        tensor[li][0][letterToIndex(letter)] = 1\n",
    "    return tensor"
   ]
  },
  {
   "cell_type": "code",
   "execution_count": 7,
   "metadata": {},
   "outputs": [],
   "source": [
    "class RNN(nn.Module):\n",
    "    def __init__(self, input_size, hidden_size, output_size):\n",
    "        super(RNN, self).__init__()\n",
    "\n",
    "        self.hidden_size = hidden_size\n",
    "\n",
    "        self.hidden_comp = nn.Linear(input_size + hidden_size, hidden_size)\n",
    "        self.output_comp = nn.Linear(input_size + hidden_size, hidden_size)\n",
    "        self.output2output = nn.Linear(hidden_size, output_size)\n",
    "        self.tanh_act = nn.Tanh()\n",
    "        self.lsoftmax = nn.LogSoftmax(dim=1)\n",
    "\n",
    "    def forward(self, x, hidden):\n",
    "        \n",
    "        combined = torch.cat((x, hidden), 1)\n",
    "        hidden = self.hidden_comp(combined)\n",
    "        hidden = self.tanh_act(hidden)\n",
    "        \n",
    "        output = self.output_comp(combined)\n",
    "        output = self.tanh_act(output)\n",
    "        output = self.output2output(output)\n",
    "        output = self.lsoftmax(output)\n",
    "        \n",
    "        return output, hidden\n",
    "\n",
    "    def initHidden(self):\n",
    "        return torch.zeros(1, self.hidden_size)\n",
    "\n",
    "n_hidden = 128\n",
    "rnn = RNN(n_letters, n_hidden, n_categories)"
   ]
  },
  {
   "cell_type": "code",
   "execution_count": 8,
   "metadata": {},
   "outputs": [],
   "source": [
    "def categoryFromOutput(output):\n",
    "    top_n, top_i = output.topk(1)\n",
    "    category_i = top_i[0].item()\n",
    "    return all_countries[category_i], category_i\n",
    "\n",
    "def randomChoice(l):\n",
    "    return l[random.randint(0, len(l) - 1)]\n",
    "\n",
    "def randomTrainingExample():\n",
    "    category = randomChoice(all_countries)\n",
    "    line = randomChoice(city_dict[category])\n",
    "    category_tensor = torch.tensor([all_countries.index(category)], dtype=torch.long)\n",
    "    line_tensor = lineToTensor(line)\n",
    "    return category, line, category_tensor, line_tensor\n",
    "\n",
    "def timeSince(since):\n",
    "    now = time.time()\n",
    "    s = now - since\n",
    "    m = math.floor(s / 60)\n",
    "    s -= m * 60\n",
    "    return '%dm %ds' % (m, s)\n",
    "\n",
    "def train(category_tensor, line_tensor, optim, criterion, model):\n",
    "    \n",
    "    model.train()\n",
    "    hidden = model.initHidden()\n",
    "    model.zero_grad()\n",
    "    \n",
    "    category_tensor = category_tensor.to(device)\n",
    "    line_tensor = line_tensor.to(device)\n",
    "\n",
    "    # Iterate through the whole line!\n",
    "    for i in range(line_tensor.size()[0]):\n",
    "        hidden = hidden.to(device)\n",
    "        output, hidden = model(line_tensor[i], hidden)\n",
    "\n",
    "    loss = criterion(output, category_tensor)\n",
    "    \n",
    "    # zero the parameter gradients\n",
    "    optim.zero_grad()\n",
    "    loss.backward()\n",
    "    optim.step()\n",
    "\n",
    "    return output, loss.item()"
   ]
  },
  {
   "cell_type": "code",
   "execution_count": 9,
   "metadata": {},
   "outputs": [
    {
     "name": "stdout",
     "output_type": "stream",
     "text": [
      "5000 5% (0m 23s) 3.9112 Vila de Porto Santo / Poland ✗ (Portugal)\n",
      "10000 10% (0m 40s) 3.8976 Korfez / Poland ✗ (Turkey)\n",
      "15000 15% (0m 57s) 3.7162 Khondab / Syria ✗ (Iran)\n",
      "20000 20% (1m 14s) 3.2819 Mouguerre / United Kingdom ✗ (France)\n",
      "25000 25% (1m 30s) 3.0060 Moraleja de Enmedio / Italy ✗ (Spain)\n",
      "30000 30% (1m 47s) 2.4695 Munchenstein / Austria ✗ (Switzerland)\n",
      "35000 35% (2m 6s) 3.0639 Hailin / Syria ✗ (China)\n",
      "40000 40% (2m 22s) 4.3695 Remedios / France ✗ (Colombia)\n",
      "45000 45% (2m 37s) 3.3708 Tekmal / Kazakhstan ✗ (India)\n",
      "50000 50% (2m 52s) 2.3305 El Pino / Italy ✗ (Dominican Republic)\n",
      "55000 55% (3m 7s) 2.4657 Vel'ky Saris / Bulgaria ✗ (Slovakia)\n",
      "60000 60% (3m 22s) 4.6923 Zapala / India ✗ (Argentina)\n",
      "65000 65% (3m 37s) 2.7214 Florencio Varela / Guatemala ✗ (Argentina)\n",
      "70000 70% (3m 52s) 2.4683 Talcahuano / Italy ✗ (Chile)\n",
      "75000 75% (4m 7s) 4.4536 Puerto Aysen / Algeria ✗ (Chile)\n",
      "80000 80% (4m 22s) 2.8678 Bela Crkva / Slovakia ✗ (Serbia)\n",
      "85000 85% (4m 37s) 3.1152 Komarolu / Czechia ✗ (India)\n",
      "90000 90% (4m 52s) 1.1912 Kvinesdal / Norway ✓\n",
      "95000 95% (5m 7s) 2.7315 Grobenzell / Austria ✗ (Germany)\n",
      "100000 100% (5m 22s) 0.5679 Kodinsk / Russia ✓\n"
     ]
    }
   ],
   "source": [
    "criterion = nn.NLLLoss() # Because we are using Log_softmax\n",
    "learning_rate = 0.005 # If you set this too high, it might explode. If too low, it might not learn\n",
    "N_HIDDEN = 128\n",
    "\n",
    "model_basic = RNN(n_letters, N_HIDDEN, n_categories) #Vocab_size, hidden size, output classes\n",
    "model_basic = model_basic.to(device)\n",
    "optimizer = optim.SGD(model_basic.parameters(), lr=learning_rate)\n",
    "\n",
    "# Keep track of losses for plotting\n",
    "current_loss = 0\n",
    "all_losses = []\n",
    "\n",
    "start = time.time()\n",
    "\n",
    "for iter in range(1, n_iters + 1):\n",
    "    category, line, category_tensor, line_tensor = randomTrainingExample()\n",
    "    output, loss = train(category_tensor, line_tensor, optimizer, criterion, model_basic)\n",
    "    current_loss += loss\n",
    "\n",
    "    # Print iter number, loss, name and guess\n",
    "    if iter % print_every == 0:\n",
    "        guess, guess_i = categoryFromOutput(output)\n",
    "        correct = '✓' if guess == category else '✗ (%s)' % category\n",
    "        print('%d %d%% (%s) %.4f %s / %s %s' % (iter, iter / n_iters * 100, timeSince(start), loss, line, guess, correct))\n",
    "\n",
    "    # Add current loss avg to list of losses\n",
    "    if iter % plot_every == 0:\n",
    "        all_losses.append(current_loss / plot_every)\n",
    "        current_loss = 0"
   ]
  },
  {
   "cell_type": "code",
   "execution_count": 10,
   "metadata": {},
   "outputs": [
    {
     "data": {
      "text/plain": [
       "[<matplotlib.lines.Line2D at 0x21b99add430>]"
      ]
     },
     "execution_count": 10,
     "metadata": {},
     "output_type": "execute_result"
    },
    {
     "data": {
      "image/png": "[encoded data removed]",
      "text/plain": [
       "<Figure size 432x288 with 1 Axes>"
      ]
     },
     "metadata": {
      "needs_background": "light"
     },
     "output_type": "display_data"
    }
   ],
   "source": [
    "# PLOT THE RESULT\n",
    "\n",
    "import matplotlib.pyplot as plt\n",
    "import matplotlib.ticker as ticker\n",
    "\n",
    "plt.figure()\n",
    "plt.plot(all_losses)"
   ]
  },
  {
   "cell_type": "code",
   "execution_count": 29,
   "metadata": {},
   "outputs": [
    {
     "name": "stdout",
     "output_type": "stream",
     "text": [
      "\n",
      "> Oslo\n",
      "(-2.51) Finland\n",
      "(-2.67) Poland\n",
      "(-3.16) Norway\n",
      "(-3.25) Bulgaria\n",
      "(-3.27) Uganda\n",
      "\n",
      "> Malmo\n",
      "(-2.15) Peru\n",
      "(-2.44) Japan\n",
      "(-2.52) Finland\n",
      "(-2.55) Uganda\n",
      "(-2.63) Italy\n",
      "\n",
      "> London\n",
      "(-1.99) Australia\n",
      "(-2.09) United Kingdom\n",
      "(-2.11) South Africa\n",
      "(-2.33) United States\n",
      "(-2.92) Poland\n",
      "\n",
      "> Berlin\n",
      "(-2.05) Germany\n",
      "(-2.36) Netherlands\n",
      "(-2.58) Australia\n",
      "(-2.69) Switzerland\n",
      "(-2.73) United Kingdom\n"
     ]
    }
   ],
   "source": [
    "def evaluate(line_tensor, model):\n",
    "    model.eval()\n",
    "    hidden = model.initHidden()\n",
    "    line_tensor = line_tensor.to(device)\n",
    "\n",
    "    for i in range(line_tensor.size()[0]):\n",
    "        hidden = hidden.to(device)\n",
    "        output, hidden = model(line_tensor[i], hidden)\n",
    "\n",
    "    return output\n",
    "\n",
    "def predict(input_line, n_predictions=5):\n",
    "    print('\\n> %s' % input_line)\n",
    "    with torch.no_grad():\n",
    "        output = evaluate(lineToTensor(input_line), model_basic)\n",
    "\n",
    "        # Get top N categories\n",
    "        topv, topi = output.topk(n_predictions, 1, True)\n",
    "        predictions = []\n",
    "\n",
    "        for i in range(n_predictions):\n",
    "            value = topv[0][i].item()\n",
    "            category_index = topi[0][i].item()\n",
    "            print('(%.2f) %s' % (value, all_countries[category_index]))\n",
    "            predictions.append([value, all_countries[category_index]])\n",
    "\n",
    "predict('Oslo')\n",
    "predict('Malmo')\n",
    "predict('London')\n",
    "predict('Berlin')"
   ]
  },
  {
   "cell_type": "markdown",
   "metadata": {},
   "source": [
    "## Pytorch RNN"
   ]
  },
  {
   "cell_type": "code",
   "execution_count": 12,
   "metadata": {},
   "outputs": [],
   "source": [
    "def categoryToTensor(category):\n",
    "    tensor = torch.zeros([1, len(all_countries)], dtype=torch.long)\n",
    "    tensor[0][all_countries.index(category)] = 1\n",
    "    return tensor\n",
    "\n",
    "def randomChoice(l):\n",
    "    return l[random.randint(0, len(l) - 1)]\n",
    "\n",
    "def randomTrainingExample():\n",
    "    category = randomChoice(all_countries)\n",
    "    line = randomChoice(city_dict[category])\n",
    "    category_tensor = categoryToTensor(category)\n",
    "    line_tensor = lineToTensor(line)\n",
    "    return category, line, category_tensor, line_tensor"
   ]
  },
  {
   "cell_type": "code",
   "execution_count": 13,
   "metadata": {},
   "outputs": [],
   "source": [
    "class RNNPytorch(nn.Module):\n",
    "    def __init__(self, input_size, hidden_size, output_size):\n",
    "        super(RNNPytorch, self).__init__()\n",
    "\n",
    "        self.hidden_size = hidden_size\n",
    "        \n",
    "        self.rnn = nn.RNN(input_size, hidden_size, num_layers=1, batch_first=True) # 1 is num_layers\n",
    "        self.fc = nn.Linear(hidden_size, output_size)\n",
    "        self.lsoftmax = nn.LogSoftmax(dim=1)\n",
    "\n",
    "    def forward(self, x, hidden):\n",
    "\n",
    "        hidden, output = self.rnn(x, hidden)\n",
    "\n",
    "        output = output.contiguous().view(-1, self.hidden_size)\n",
    "        output = self.fc(output)\n",
    "        output = self.lsoftmax(output)\n",
    "        \n",
    "        return output, hidden\n",
    "\n",
    "    def initHidden(self):\n",
    "        return torch.zeros(1, 1, self.hidden_size)\n",
    "\n",
    "def train_pytorch_model(category_tensor, line_tensor, optim, criterion, model):\n",
    "    \n",
    "    model.train()\n",
    "    hidden = model.initHidden()\n",
    "    model.zero_grad()\n",
    "    line_tensor = line_tensor.permute(1, 0, 2)    \n",
    "    \n",
    "    category_tensor = category_tensor.to(device)\n",
    "    line_tensor = line_tensor.to(device)\n",
    "    \n",
    "    # Iterate through the whole line!\n",
    "    hidden = hidden.to(device)\n",
    "    output, hidden = model(line_tensor, hidden)\n",
    "\n",
    "    loss = criterion(output, torch.topk(category_tensor, 1).indices.view(-1))\n",
    "    \n",
    "    # zero the parameter gradients\n",
    "    optim.zero_grad()\n",
    "    loss.backward()\n",
    "    optim.step()\n",
    "\n",
    "    return output, loss.item()"
   ]
  },
  {
   "cell_type": "markdown",
   "metadata": {},
   "source": [
    "### Training "
   ]
  },
  {
   "cell_type": "code",
   "execution_count": 14,
   "metadata": {},
   "outputs": [
    {
     "name": "stdout",
     "output_type": "stream",
     "text": [
      "5000 5% (0m 6s) 3.7314 Ilo / Mexico ✗ (Peru)\n",
      "10000 10% (0m 12s) 3.7829 Peris / Switzerland ✗ (Romania)\n",
      "15000 15% (0m 18s) 4.1057 Kwinana / Japan ✗ (Australia)\n",
      "20000 20% (0m 23s) 3.2620 Cehu Silvaniei / Romania ✓\n",
      "25000 25% (0m 29s) 3.3079 Nord-Fron / Czechia ✗ (Norway)\n",
      "30000 30% (0m 36s) 4.1697 Medan / Iran ✗ (Indonesia)\n",
      "35000 35% (0m 42s) 3.4621 Burubaytal / Thailand ✗ (Kazakhstan)\n",
      "40000 40% (0m 48s) 3.2459 Nesebar / South Africa ✗ (Bulgaria)\n",
      "45000 45% (0m 54s) 2.8946 Puca Urco / Italy ✗ (Peru)\n",
      "50000 50% (1m 0s) 2.6181 Klyuchi / Ukraine ✗ (Russia)\n",
      "55000 55% (1m 6s) 4.2536 Ski / Finland ✗ (Norway)\n",
      "60000 60% (1m 12s) 1.9804 Czestochowa / Poland ✓\n",
      "65000 65% (1m 18s) 3.0318 Kavala / Finland ✗ (Greece)\n",
      "70000 70% (1m 24s) 1.5221 Kirklareli / Turkey ✓\n",
      "75000 75% (1m 30s) 3.9859 Aldo Bonzi / Greece ✗ (Argentina)\n",
      "80000 80% (1m 36s) 4.8237 Can / Philippines ✗ (Turkey)\n",
      "85000 85% (1m 42s) 0.9856 Okhtyrka / Ukraine ✓\n",
      "90000 90% (1m 48s) 3.4166 Wangen bei Olten / Austria ✗ (Switzerland)\n",
      "95000 95% (1m 53s) 2.7419 Shahba / Egypt ✗ (Syria)\n",
      "100000 100% (1m 59s) 0.9740 Jujharpur / India ✓\n"
     ]
    }
   ],
   "source": [
    "criterion = nn.NLLLoss() # Because we are using Log_softmax\n",
    "learning_rate = 0.005 # If you set this too high, it might explode. If too low, it might not learn\n",
    "N_HIDDEN = 128\n",
    "\n",
    "model_pytorch = RNNPytorch(n_letters, N_HIDDEN, n_categories) #Vocab_size, hidden size, output classes\n",
    "model_pytorch = model_pytorch.to(device)\n",
    "optimizer = optim.SGD(model_pytorch.parameters(), lr=learning_rate)\n",
    "\n",
    "# Keep track of losses for plotting\n",
    "current_loss = 0\n",
    "all_losses = []\n",
    "\n",
    "start = time.time()\n",
    "\n",
    "for iter in range(1, n_iters + 1):\n",
    "    category, line, category_tensor, line_tensor = randomTrainingExample()\n",
    "    output, loss = train_pytorch_model(category_tensor, line_tensor, optimizer, criterion, model_pytorch)\n",
    "    current_loss += loss\n",
    "    # Print iter number, loss, name and guess\n",
    "    if iter % print_every == 0:\n",
    "        guess, guess_i = categoryFromOutput(output)\n",
    "        correct = '✓' if guess == category else '✗ (%s)' % category\n",
    "        print('%d %d%% (%s) %.4f %s / %s %s' % (iter, iter / n_iters * 100, timeSince(start), loss, line, guess, correct))\n",
    "\n",
    "    # Add current loss avg to list of losses\n",
    "    if iter % plot_every == 0:\n",
    "        all_losses.append(current_loss / plot_every)\n",
    "        current_loss = 0"
   ]
  },
  {
   "cell_type": "code",
   "execution_count": 15,
   "metadata": {},
   "outputs": [
    {
     "data": {
      "text/plain": [
       "[<matplotlib.lines.Line2D at 0x21b99cd3580>]"
      ]
     },
     "execution_count": 15,
     "metadata": {},
     "output_type": "execute_result"
    },
    {
     "data": {
      "image/png": "[encoded data removed]",
      "text/plain": [
       "<Figure size 432x288 with 1 Axes>"
      ]
     },
     "metadata": {
      "needs_background": "light"
     },
     "output_type": "display_data"
    }
   ],
   "source": [
    "# PLOT THE RESULT\n",
    "\n",
    "import matplotlib.pyplot as plt\n",
    "import matplotlib.ticker as ticker\n",
    "\n",
    "plt.figure()\n",
    "plt.plot(all_losses)"
   ]
  },
  {
   "cell_type": "code",
   "execution_count": 33,
   "metadata": {},
   "outputs": [
    {
     "name": "stdout",
     "output_type": "stream",
     "text": [
      "\n",
      "> Oslo\n",
      "(-2.15) Poland\n",
      "(-2.37) Hungary\n",
      "(-2.61) Finland\n",
      "(-2.80) Uganda\n",
      "(-2.83) Switzerland\n",
      "\n",
      "> Malmo\n",
      "(-2.15) Indonesia\n",
      "(-2.33) Uganda\n",
      "(-2.56) Peru\n",
      "(-2.70) Japan\n",
      "(-2.71) Philippines\n",
      "\n",
      "> London\n",
      "(-1.80) South Africa\n",
      "(-2.23) United Kingdom\n",
      "(-2.52) Netherlands\n",
      "(-2.61) Austria\n",
      "(-2.70) Australia\n",
      "\n",
      "> Berlin\n",
      "(-2.09) Bulgaria\n",
      "(-2.35) Poland\n",
      "(-2.70) Serbia\n",
      "(-2.76) France\n",
      "(-2.99) Indonesia\n"
     ]
    }
   ],
   "source": [
    "def evaluate(line_tensor, model):\n",
    "    model.eval()\n",
    "    hidden = model.initHidden()\n",
    "    hidden = hidden.to(device)\n",
    "\n",
    "    line_tensor = line_tensor.permute(1, 0, 2)\n",
    "    line_tensor = line_tensor.to(device)\n",
    "    output, hidden = model(line_tensor, hidden)\n",
    "    \n",
    "    return output\n",
    "\n",
    "\n",
    "def predict(input_line, n_predictions=5):\n",
    "    print('\\n> %s' % input_line)\n",
    "    with torch.no_grad():\n",
    "        output = evaluate(lineToTensor(input_line), model_pytorch)\n",
    "\n",
    "        # Get top N categories\n",
    "        topv, topi = output.topk(n_predictions, 1, True)\n",
    "        predictions = []\n",
    "\n",
    "        for i in range(n_predictions):\n",
    "            value = topv[0][i].item()\n",
    "            category_index = topi[0][i].item()\n",
    "            print('(%.2f) %s' % (value, all_countries[category_index]))\n",
    "            predictions.append([value, all_countries[category_index]])\n",
    "\n",
    "predict('Oslo')\n",
    "predict('Malmo')\n",
    "predict('London')\n",
    "predict('Berlin')"
   ]
  },
  {
   "cell_type": "markdown",
   "metadata": {},
   "source": [
    "## GRU Net"
   ]
  },
  {
   "cell_type": "code",
   "execution_count": 17,
   "metadata": {},
   "outputs": [],
   "source": [
    "class RNNPytorch(nn.Module):\n",
    "    def __init__(self, input_size, hidden_size, output_size):\n",
    "        super(RNNPytorch, self).__init__()\n",
    "\n",
    "        self.hidden_size = hidden_size\n",
    "        \n",
    "        self.rnn = nn.GRU(input_size, hidden_size, num_layers=1, batch_first=True) # 1 is num_layers\n",
    "        self.fc = nn.Linear(hidden_size, output_size)\n",
    "        self.lsoftmax = nn.LogSoftmax(dim=1)\n",
    "\n",
    "    def forward(self, x, hidden):\n",
    "\n",
    "        hidden, output = self.rnn(x, hidden)\n",
    "\n",
    "        output = output.contiguous().view(-1, self.hidden_size)\n",
    "        output = self.fc(output)\n",
    "        output = self.lsoftmax(output)\n",
    "        \n",
    "        return output, hidden\n",
    "\n",
    "    def initHidden(self):\n",
    "        return torch.zeros(1, 1, self.hidden_size)\n",
    "\n",
    "def train_pytorch_model(category_tensor, line_tensor, optim, criterion, model):\n",
    "    \n",
    "    model.train()\n",
    "    hidden = model.initHidden()\n",
    "    model.zero_grad()\n",
    "    line_tensor = line_tensor.permute(1, 0, 2)    \n",
    "    \n",
    "    category_tensor = category_tensor.to(device)\n",
    "    line_tensor = line_tensor.to(device)\n",
    "    \n",
    "    # Iterate through the whole line!\n",
    "    hidden = hidden.to(device)\n",
    "    output, hidden = model(line_tensor, hidden)\n",
    "\n",
    "    loss = criterion(output, torch.topk(category_tensor, 1).indices.view(-1))\n",
    "    \n",
    "    # zero the parameter gradients\n",
    "    optim.zero_grad()\n",
    "    loss.backward()\n",
    "    optim.step()\n",
    "\n",
    "    return output, loss.item()"
   ]
  },
  {
   "cell_type": "markdown",
   "metadata": {},
   "source": [
    "### Training "
   ]
  },
  {
   "cell_type": "code",
   "execution_count": 18,
   "metadata": {},
   "outputs": [
    {
     "name": "stdout",
     "output_type": "stream",
     "text": [
      "5000 5% (0m 6s) 3.7630 Bibinagar / India ✓\n",
      "10000 10% (0m 12s) 3.8866 Sarospatak / Russia ✗ (Hungary)\n",
      "15000 15% (0m 18s) 3.9183 Vrbas / Egypt ✗ (Serbia)\n",
      "20000 20% (0m 24s) 3.8513 Michalovce / Belgium ✗ (Slovakia)\n",
      "25000 25% (0m 30s) 3.7667 Sao Marcos / Dominican Republic ✗ (Brazil)\n",
      "30000 30% (0m 36s) 4.0889 Urla / Finland ✗ (Turkey)\n",
      "35000 35% (0m 43s) 3.7734 Bugiri / Greece ✗ (Uganda)\n",
      "40000 40% (0m 50s) 3.0852 Si Sa Ket / Egypt ✗ (Thailand)\n",
      "45000 45% (0m 56s) 3.5130 Embu-Guacu / India ✗ (Brazil)\n",
      "50000 50% (1m 2s) 3.2982 Tonisvorst / Russia ✗ (Germany)\n",
      "55000 55% (1m 8s) 2.6236 Douar Snada / Egypt ✗ (Morocco)\n",
      "60000 60% (1m 14s) 3.4597 Manokwari / Finland ✗ (Indonesia)\n",
      "65000 65% (1m 20s) 3.1841 Szerencs / Belgium ✗ (Hungary)\n",
      "70000 70% (1m 25s) 2.7600 Meycauayan / Slovakia ✗ (Philippines)\n",
      "75000 75% (1m 31s) 2.3640 Neuenhof / Austria ✗ (Switzerland)\n",
      "80000 80% (1m 37s) 4.4060 Colac / Serbia ✗ (Australia)\n",
      "85000 85% (1m 43s) 5.1887 Llanera / Spain ✗ (Philippines)\n",
      "90000 90% (1m 49s) 3.5613 Aguilas / Philippines ✗ (Spain)\n",
      "95000 95% (1m 55s) 0.5971 Mahdishahr / Iran ✓\n",
      "100000 100% (2m 1s) 3.9762 Thane / Uganda ✗ (India)\n"
     ]
    }
   ],
   "source": [
    "criterion = nn.NLLLoss() # Because we are using Log_softmax\n",
    "learning_rate = 0.005 # If you set this too high, it might explode. If too low, it might not learn\n",
    "N_HIDDEN = 128\n",
    "\n",
    "model_gru = RNNPytorch(n_letters, N_HIDDEN, n_categories) #Vocab_size, hidden size, output classes\n",
    "model_gru = model_gru.to(device)\n",
    "optimizer = optim.SGD(model_gru.parameters(), lr=learning_rate)\n",
    "\n",
    "# Keep track of losses for plotting\n",
    "current_loss = 0\n",
    "all_losses = []\n",
    "\n",
    "start = time.time()\n",
    "\n",
    "for iter in range(1, n_iters + 1):\n",
    "    category, line, category_tensor, line_tensor = randomTrainingExample()\n",
    "    output, loss = train_pytorch_model(category_tensor, line_tensor, optimizer, criterion, model_gru)\n",
    "    current_loss += loss\n",
    "    # Print iter number, loss, name and guess\n",
    "    if iter % print_every == 0:\n",
    "        guess, guess_i = categoryFromOutput(output)\n",
    "        correct = '✓' if guess == category else '✗ (%s)' % category\n",
    "        print('%d %d%% (%s) %.4f %s / %s %s' % (iter, iter / n_iters * 100, timeSince(start), loss, line, guess, correct))\n",
    "\n",
    "    # Add current loss avg to list of losses\n",
    "    if iter % plot_every == 0:\n",
    "        all_losses.append(current_loss / plot_every)\n",
    "        current_loss = 0"
   ]
  },
  {
   "cell_type": "code",
   "execution_count": 19,
   "metadata": {},
   "outputs": [
    {
     "data": {
      "text/plain": [
       "[<matplotlib.lines.Line2D at 0x21b9a10c070>]"
      ]
     },
     "execution_count": 19,
     "metadata": {},
     "output_type": "execute_result"
    },
    {
     "data": {
      "image/png": "[encoded data removed]",
      "text/plain": [
       "<Figure size 432x288 with 1 Axes>"
      ]
     },
     "metadata": {
      "needs_background": "light"
     },
     "output_type": "display_data"
    }
   ],
   "source": [
    "# PLOT THE RESULT\n",
    "\n",
    "import matplotlib.pyplot as plt\n",
    "import matplotlib.ticker as ticker\n",
    "\n",
    "plt.figure()\n",
    "plt.plot(all_losses)"
   ]
  },
  {
   "cell_type": "code",
   "execution_count": 32,
   "metadata": {},
   "outputs": [
    {
     "name": "stdout",
     "output_type": "stream",
     "text": [
      "\n",
      "> Oslo\n",
      "(-2.65) Portugal\n",
      "(-2.70) Italy\n",
      "(-2.74) Greece\n",
      "(-2.97) Uganda\n",
      "(-2.99) Colombia\n",
      "\n",
      "> Malmo\n",
      "(-2.48) Peru\n",
      "(-2.52) Colombia\n",
      "(-2.60) Uganda\n",
      "(-2.66) Dominican Republic\n",
      "(-2.85) Portugal\n",
      "\n",
      "> London\n",
      "(-2.07) South Africa\n",
      "(-2.11) United Kingdom\n",
      "(-2.70) United States\n",
      "(-2.78) Switzerland\n",
      "(-2.88) Canada\n",
      "\n",
      "> Berlin\n",
      "(-2.29) South Africa\n",
      "(-2.36) Austria\n",
      "(-2.42) Switzerland\n",
      "(-2.48) Netherlands\n",
      "(-2.51) Germany\n"
     ]
    }
   ],
   "source": [
    "def evaluate(line_tensor, model):\n",
    "    model.eval()\n",
    "    hidden = model.initHidden()\n",
    "    hidden = hidden.to(device)\n",
    "\n",
    "    line_tensor = line_tensor.permute(1, 0, 2)\n",
    "    line_tensor = line_tensor.to(device)\n",
    "    output, hidden = model(line_tensor, hidden)\n",
    "    \n",
    "    return output\n",
    "\n",
    "def predict(input_line, n_predictions=5):\n",
    "    print('\\n> %s' % input_line)\n",
    "    with torch.no_grad():\n",
    "        output = evaluate(lineToTensor(input_line), model_gru)\n",
    "\n",
    "        # Get top N categories\n",
    "        topv, topi = output.topk(n_predictions, 1, True)\n",
    "        predictions = []\n",
    "\n",
    "        for i in range(n_predictions):\n",
    "            value = topv[0][i].item()\n",
    "            category_index = topi[0][i].item()\n",
    "            print('(%.2f) %s' % (value, all_countries[category_index]))\n",
    "            predictions.append([value, all_countries[category_index]])\n",
    "\n",
    "predict('Oslo')\n",
    "predict('Malmo')\n",
    "predict('London')\n",
    "predict('Berlin')"
   ]
  },
  {
   "cell_type": "code",
   "execution_count": null,
   "metadata": {},
   "outputs": [],
   "source": []
  }
 ],
 "metadata": {
  "interpreter": {
   "hash": "53e10ef9a4a07817da7b339c1ff1fa97ba0660b27848e973d3957442a75fa000"
  },
  "kernelspec": {
   "display_name": "Python 3.8.5 ('mau-aml-labs-qgR6-ufm-py3.8')",
   "language": "python",
   "name": "python3"
  },
  "language_info": {
   "codemirror_mode": {
    "name": "ipython",
    "version": 3
   },
   "file_extension": ".py",
   "mimetype": "text/x-python",
   "name": "python",
   "nbconvert_exporter": "python",
   "pygments_lexer": "ipython3",
   "version": "3.8.5"
  },
  "orig_nbformat": 4
 },
 "nbformat": 4,
 "nbformat_minor": 2
}
