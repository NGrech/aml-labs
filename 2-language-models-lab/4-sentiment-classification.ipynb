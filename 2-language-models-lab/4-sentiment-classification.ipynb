{
 "cells": [
  {
   "cell_type": "code",
   "execution_count": 166,
   "metadata": {},
   "outputs": [
    {
     "data": {
      "text/plain": [
       "device(type='cuda')"
      ]
     },
     "execution_count": 166,
     "metadata": {},
     "output_type": "execute_result"
    }
   ],
   "source": [
    "from __future__ import unicode_literals, print_function, division\n",
    "from io import open\n",
    "import glob\n",
    "import os\n",
    "import unicodedata\n",
    "import string\n",
    "import random\n",
    "import time\n",
    "import math\n",
    "import pandas as pd\n",
    "import torch\n",
    "import torch.nn as nn\n",
    "import torch.optim as optim\n",
    "from torch.optim import lr_scheduler\n",
    "\n",
    "import matplotlib.pyplot as plt\n",
    "import matplotlib.ticker as ticker\n",
    "\n",
    "device = torch.device(\"cuda\" if torch.cuda.is_available() else \"cpu\")\n",
    "device"
   ]
  },
  {
   "cell_type": "code",
   "execution_count": 167,
   "metadata": {},
   "outputs": [],
   "source": [
    "n_iters = 100000\n",
    "print_every = 5000\n",
    "plot_every = 1000"
   ]
  },
  {
   "cell_type": "code",
   "execution_count": 168,
   "metadata": {},
   "outputs": [],
   "source": [
    "# Vocabulary\n",
    "all_letters = string.ascii_letters + \" .,;'\"\n",
    "n_letters = len(all_letters)\n",
    "\n",
    "# Turn a Unicode string to plain ASCII, thanks to https://stackoverflow.com/a/518232/2809427\n",
    "def unicodeToAscii(s):\n",
    "    return ''.join(\n",
    "        c for c in unicodedata.normalize('NFD', s)\n",
    "        if unicodedata.category(c) != 'Mn'\n",
    "        and c in all_letters\n",
    "    )\n",
    "\n",
    "def readLines(filename):\n",
    "    lines = open(filename, encoding='utf-8').read().strip().split('\\n')\n",
    "    return [unicodeToAscii(line) for line in lines]\n",
    "\n",
    "def findFiles(path): return glob.glob(path)"
   ]
  },
  {
   "cell_type": "code",
   "execution_count": 169,
   "metadata": {},
   "outputs": [
    {
     "name": "stdout",
     "output_type": "stream",
     "text": [
      "50\n"
     ]
    }
   ],
   "source": [
    "data_dir = os.path.join(os.pardir, 'data', 'worldcities.csv')\n",
    "raw_df = pd.read_csv(data_dir)[['city_ascii', 'country']]\n",
    "\n",
    "# Listing all cities for each country\n",
    "grouped_cities = raw_df.groupby('country')['city_ascii'].apply(list).reset_index(name='cities')\n",
    "\n",
    "# Removing all countries where number of cities < 100\n",
    "city_count = raw_df.groupby('country').count().reset_index()\n",
    "countries_to_keep = city_count[city_count.city_ascii > 100].country\n",
    "grouped_cities = grouped_cities[grouped_cities.country.isin(countries_to_keep)]\n",
    "\n",
    "\n",
    "# Preparing country city dict and label list\n",
    "all_countries = grouped_cities['country'].unique().tolist()\n",
    "city_dict = {country: city_lst for country, city_lst in grouped_cities.to_numpy()}\n",
    "n_categories = len(all_countries)\n",
    "print(n_categories)"
   ]
  },
  {
   "cell_type": "code",
   "execution_count": 170,
   "metadata": {},
   "outputs": [],
   "source": [
    "# Find letter index from all_letters, e.g. \"a\" = 0\n",
    "def letterToIndex(letter):\n",
    "    return all_letters.find(letter)\n",
    "\n",
    "# Just for demonstration, turn a letter into a <1 x n_letters> Tensor\n",
    "def letterToTensor(letter):\n",
    "    tensor = torch.zeros(1, n_letters)\n",
    "    tensor[0][letterToIndex(letter)] = 1\n",
    "    return tensor\n",
    "\n",
    "# Turn a line into a <line_length x 1 x n_letters>,\n",
    "# or an array of one-hot letter vectors\n",
    "def lineToTensor(line):\n",
    "    tensor = torch.zeros(len(line), 1, n_letters)\n",
    "    for li, letter in enumerate(line):\n",
    "        tensor[li][0][letterToIndex(letter)] = 1\n",
    "    return tensor"
   ]
  },
  {
   "cell_type": "code",
   "execution_count": 171,
   "metadata": {},
   "outputs": [],
   "source": [
    "class RNN(nn.Module):\n",
    "    def __init__(self, input_size, hidden_size, output_size):\n",
    "        super(RNN, self).__init__()\n",
    "\n",
    "        self.hidden_size = hidden_size\n",
    "\n",
    "        self.hidden_comp = nn.Linear(input_size + hidden_size, hidden_size)\n",
    "        self.output_comp = nn.Linear(input_size + hidden_size, hidden_size)\n",
    "        self.output2output = nn.Linear(hidden_size, output_size)\n",
    "        self.tanh_act = nn.Tanh()\n",
    "        self.lsoftmax = nn.LogSoftmax(dim=1)\n",
    "\n",
    "    def forward(self, x, hidden):\n",
    "        \n",
    "        combined = torch.cat((x, hidden), 1)\n",
    "        hidden = self.hidden_comp(combined)\n",
    "        hidden = self.tanh_act(hidden)\n",
    "        \n",
    "        output = self.output_comp(combined)\n",
    "        output = self.tanh_act(output)\n",
    "        output = self.output2output(output)\n",
    "        output = self.lsoftmax(output)\n",
    "        \n",
    "        return output, hidden\n",
    "\n",
    "    def initHidden(self):\n",
    "        return torch.zeros(1, self.hidden_size)\n",
    "\n",
    "n_hidden = 128\n",
    "rnn = RNN(n_letters, n_hidden, n_categories)"
   ]
  },
  {
   "cell_type": "code",
   "execution_count": 172,
   "metadata": {},
   "outputs": [],
   "source": [
    "def categoryFromOutput(output):\n",
    "    top_n, top_i = output.topk(1)\n",
    "    category_i = top_i[0].item()\n",
    "    return all_countries[category_i], category_i\n",
    "\n",
    "def randomChoice(l):\n",
    "    return l[random.randint(0, len(l) - 1)]\n",
    "\n",
    "def randomTrainingExample():\n",
    "    category = randomChoice(all_countries)\n",
    "    line = randomChoice(city_dict[category])\n",
    "    category_tensor = torch.tensor([all_countries.index(category)], dtype=torch.long)\n",
    "    line_tensor = lineToTensor(line)\n",
    "    return category, line, category_tensor, line_tensor\n",
    "\n",
    "def timeSince(since):\n",
    "    now = time.time()\n",
    "    s = now - since\n",
    "    m = math.floor(s / 60)\n",
    "    s -= m * 60\n",
    "    return '%dm %ds' % (m, s)\n",
    "\n",
    "def train(category_tensor, line_tensor, optim, criterion, model):\n",
    "    \n",
    "    model.train()\n",
    "    hidden = model.initHidden()\n",
    "    model.zero_grad()\n",
    "    \n",
    "    category_tensor = category_tensor.to(device)\n",
    "    line_tensor = line_tensor.to(device)\n",
    "\n",
    "    # Iterate through the whole line!\n",
    "    for i in range(line_tensor.size()[0]):\n",
    "        hidden = hidden.to(device)\n",
    "        output, hidden = model(line_tensor[i], hidden)\n",
    "\n",
    "    loss = criterion(output, category_tensor)\n",
    "    \n",
    "    # zero the parameter gradients\n",
    "    optim.zero_grad()\n",
    "    loss.backward()\n",
    "    optim.step()\n",
    "\n",
    "    return output, loss.item()"
   ]
  },
  {
   "cell_type": "code",
   "execution_count": 173,
   "metadata": {},
   "outputs": [
    {
     "name": "stdout",
     "output_type": "stream",
     "text": [
      "5000 5% (0m 15s) 3.7901 Aldershot / Czechia ✗ (United Kingdom)\n",
      "10000 10% (0m 31s) 3.7887 Ribnica / Brazil ✗ (Slovenia)\n",
      "15000 15% (0m 47s) 3.8484 Deblin / Philippines ✗ (Poland)\n",
      "20000 20% (1m 3s) 4.1266 Las Terrenas / Brazil ✗ (Dominican Republic)\n",
      "25000 25% (1m 18s) 4.2543 Burshtyn / Germany ✗ (Ukraine)\n",
      "30000 30% (1m 34s) 2.5244 Pacasmayo / Peru ✓\n",
      "35000 35% (1m 51s) 3.1815 Concepcion del Uruguay / Guatemala ✗ (Argentina)\n",
      "40000 40% (2m 7s) 2.2671 Kapellen / Netherlands ✗ (Belgium)\n",
      "45000 45% (2m 23s) 3.0712 Cappeln / Mexico ✗ (Germany)\n",
      "50000 50% (2m 39s) 2.1071 Frutigen / Germany ✗ (Switzerland)\n",
      "55000 55% (2m 55s) 2.7627 Rorvik / Ukraine ✗ (Norway)\n",
      "60000 60% (3m 11s) 3.1920 San Andres Villa Seca / Serbia ✗ (Guatemala)\n",
      "65000 65% (3m 27s) 4.0676 Le Rheu / Thailand ✗ (France)\n",
      "70000 70% (3m 42s) 2.4893 Sao Joao del Rei / Thailand ✗ (Brazil)\n",
      "75000 75% (3m 59s) 3.3019 Abdul Hakim / Syria ✗ (Pakistan)\n",
      "80000 80% (4m 14s) 2.2882 Glogow / South Africa ✗ (Poland)\n",
      "85000 85% (4m 30s) 2.4576 Schwechat / Algeria ✗ (Austria)\n",
      "90000 90% (4m 46s) 3.2760 Panchgani / Greece ✗ (India)\n",
      "95000 95% (5m 3s) 1.9996 Satuek / Thailand ✓\n",
      "100000 100% (5m 19s) 2.7760 Pregarten / Norway ✗ (Austria)\n"
     ]
    }
   ],
   "source": [
    "criterion = nn.NLLLoss() # Because we are using Log_softmax\n",
    "learning_rate = 0.005 # If you set this too high, it might explode. If too low, it might not learn\n",
    "N_HIDDEN = 128\n",
    "\n",
    "model_basic = RNN(n_letters, N_HIDDEN, n_categories) #Vocab_size, hidden size, output classes\n",
    "model_basic = model_basic.to(device)\n",
    "optimizer = optim.SGD(model_basic.parameters(), lr=learning_rate)\n",
    "\n",
    "# Keep track of losses for plotting\n",
    "current_loss = 0\n",
    "all_losses = []\n",
    "\n",
    "start = time.time()\n",
    "\n",
    "for iter in range(1, n_iters + 1):\n",
    "    category, line, category_tensor, line_tensor = randomTrainingExample()\n",
    "    output, loss = train(category_tensor, line_tensor, optimizer, criterion, model_basic)\n",
    "    current_loss += loss\n",
    "\n",
    "    # Print iter number, loss, name and guess\n",
    "    if iter % print_every == 0:\n",
    "        guess, guess_i = categoryFromOutput(output)\n",
    "        correct = '✓' if guess == category else '✗ (%s)' % category\n",
    "        print('%d %d%% (%s) %.4f %s / %s %s' % (iter, iter / n_iters * 100, timeSince(start), loss, line, guess, correct))\n",
    "\n",
    "    # Add current loss avg to list of losses\n",
    "    if iter % plot_every == 0:\n",
    "        all_losses.append(current_loss / plot_every)\n",
    "        current_loss = 0"
   ]
  },
  {
   "cell_type": "code",
   "execution_count": 174,
   "metadata": {},
   "outputs": [
    {
     "data": {
      "text/plain": [
       "[<matplotlib.lines.Line2D at 0x1ba705408e0>]"
      ]
     },
     "execution_count": 174,
     "metadata": {},
     "output_type": "execute_result"
    },
    {
     "data": {
      "image/png": "[encoded data removed]",
      "text/plain": [
       "<Figure size 432x288 with 1 Axes>"
      ]
     },
     "metadata": {
      "needs_background": "light"
     },
     "output_type": "display_data"
    }
   ],
   "source": [
    "# PLOT THE RESULT\n",
    "\n",
    "import matplotlib.pyplot as plt\n",
    "import matplotlib.ticker as ticker\n",
    "\n",
    "plt.figure()\n",
    "plt.plot(all_losses)"
   ]
  },
  {
   "cell_type": "code",
   "execution_count": 187,
   "metadata": {},
   "outputs": [
    {
     "name": "stdout",
     "output_type": "stream",
     "text": [
      "\n",
      "> Oslo\n",
      "(-1.71) Finland\n",
      "(-2.44) Italy\n",
      "(-2.83) Norway\n",
      "\n",
      "> Stockholm\n",
      "(-1.52) South Africa\n",
      "(-1.80) United Kingdom\n",
      "(-2.24) Germany\n",
      "\n",
      "> London\n",
      "(-1.56) South Africa\n",
      "(-2.25) United Kingdom\n",
      "(-2.45) Czechia\n",
      "\n",
      "> Iraq\n",
      "(-1.89) Syria\n",
      "(-2.11) Egypt\n",
      "(-2.29) Iran\n"
     ]
    }
   ],
   "source": [
    "def evaluate(line_tensor, model):\n",
    "    model.eval()\n",
    "    hidden = model.initHidden()\n",
    "    line_tensor = line_tensor.to(device)\n",
    "\n",
    "    for i in range(line_tensor.size()[0]):\n",
    "        hidden = hidden.to(device)\n",
    "        output, hidden = model(line_tensor[i], hidden)\n",
    "\n",
    "    return output\n",
    "\n",
    "def predict(input_line, n_predictions=3):\n",
    "    print('\\n> %s' % input_line)\n",
    "    with torch.no_grad():\n",
    "        output = evaluate(lineToTensor(input_line), model_basic)\n",
    "\n",
    "        # Get top N categories\n",
    "        topv, topi = output.topk(n_predictions, 1, True)\n",
    "        predictions = []\n",
    "\n",
    "        for i in range(n_predictions):\n",
    "            value = topv[0][i].item()\n",
    "            category_index = topi[0][i].item()\n",
    "            print('(%.2f) %s' % (value, all_countries[category_index]))\n",
    "            predictions.append([value, all_countries[category_index]])\n",
    "\n",
    "predict('Oslo')\n",
    "predict('Stockholm')\n",
    "predict('London')\n",
    "predict('Iraq')"
   ]
  },
  {
   "cell_type": "markdown",
   "metadata": {},
   "source": [
    "## Pytorch RNN"
   ]
  },
  {
   "cell_type": "code",
   "execution_count": 176,
   "metadata": {},
   "outputs": [],
   "source": [
    "def categoryToTensor(category):\n",
    "    tensor = torch.zeros([1, len(all_countries)], dtype=torch.long)\n",
    "    tensor[0][all_countries.index(category)] = 1\n",
    "    return tensor\n",
    "\n",
    "def randomChoice(l):\n",
    "    return l[random.randint(0, len(l) - 1)]\n",
    "\n",
    "def randomTrainingExample():\n",
    "    category = randomChoice(all_countries)\n",
    "    line = randomChoice(city_dict[category])\n",
    "    category_tensor = categoryToTensor(category)\n",
    "    line_tensor = lineToTensor(line)\n",
    "    return category, line, category_tensor, line_tensor"
   ]
  },
  {
   "cell_type": "code",
   "execution_count": 177,
   "metadata": {},
   "outputs": [],
   "source": [
    "class RNNPytorch(nn.Module):\n",
    "    def __init__(self, input_size, hidden_size, output_size):\n",
    "        super(RNNPytorch, self).__init__()\n",
    "\n",
    "        self.hidden_size = hidden_size\n",
    "        \n",
    "        self.rnn = nn.RNN(input_size, hidden_size, num_layers=1, batch_first=True) # 1 is num_layers\n",
    "        self.fc = nn.Linear(hidden_size, output_size)\n",
    "        self.lsoftmax = nn.LogSoftmax(dim=1)\n",
    "\n",
    "    def forward(self, x, hidden):\n",
    "\n",
    "        hidden, output = self.rnn(x, hidden)\n",
    "\n",
    "        output = output.contiguous().view(-1, self.hidden_size)\n",
    "        output = self.fc(output)\n",
    "        output = self.lsoftmax(output)\n",
    "        \n",
    "        return output, hidden\n",
    "\n",
    "    def initHidden(self):\n",
    "        return torch.zeros(1, 1, self.hidden_size)\n",
    "\n",
    "def train_pytorch_model(category_tensor, line_tensor, optim, criterion, model):\n",
    "    \n",
    "    model.train()\n",
    "    hidden = model.initHidden()\n",
    "    model.zero_grad()\n",
    "    line_tensor = line_tensor.permute(1, 0, 2)    \n",
    "    \n",
    "    category_tensor = category_tensor.to(device)\n",
    "    line_tensor = line_tensor.to(device)\n",
    "    \n",
    "    # Iterate through the whole line!\n",
    "    hidden = hidden.to(device)\n",
    "    output, hidden = model(line_tensor, hidden)\n",
    "\n",
    "    loss = criterion(output, torch.topk(category_tensor, 1).indices.view(-1))\n",
    "    \n",
    "    # zero the parameter gradients\n",
    "    optim.zero_grad()\n",
    "    loss.backward()\n",
    "    optim.step()\n",
    "\n",
    "    return output, loss.item()"
   ]
  },
  {
   "cell_type": "markdown",
   "metadata": {},
   "source": [
    "### Training "
   ]
  },
  {
   "cell_type": "code",
   "execution_count": 178,
   "metadata": {},
   "outputs": [
    {
     "name": "stdout",
     "output_type": "stream",
     "text": [
      "5000 5% (0m 7s) 3.9375 Trebon / Dominican Republic ✗ (Czechia)\n",
      "10000 10% (0m 15s) 3.4943 Nyons / Austria ✗ (France)\n",
      "15000 15% (0m 22s) 4.2337 Tigzirt / Poland ✗ (Algeria)\n",
      "20000 20% (0m 29s) 2.6013 Hai'an / Syria ✗ (China)\n",
      "25000 25% (0m 37s) 2.1251 Kaplice / Czechia ✓\n",
      "30000 30% (0m 44s) 3.4802 Kosvik / Ukraine ✗ (Norway)\n",
      "35000 35% (0m 52s) 2.8229 Khenchela / India ✗ (Algeria)\n",
      "40000 40% (1m 0s) 3.6842 Tactic / Serbia ✗ (Guatemala)\n",
      "45000 45% (1m 7s) 4.9090 Tumbes / Belgium ✗ (Peru)\n",
      "50000 50% (1m 14s) 1.7678 Wezembeek-Oppem / Belgium ✓\n",
      "55000 55% (1m 21s) 2.7402 Monte Plata / Colombia ✗ (Dominican Republic)\n",
      "60000 60% (1m 28s) 2.2256 Jamaat Shaim / Syria ✗ (Morocco)\n",
      "65000 65% (1m 35s) 2.4722 Finnsnes / France ✗ (Norway)\n",
      "70000 70% (1m 42s) 3.2685 Cardenden / Austria ✗ (United Kingdom)\n",
      "75000 75% (1m 49s) 3.3089 Melipilla / Guatemala ✗ (Chile)\n",
      "80000 80% (1m 56s) 1.4094 Nyirbator / Hungary ✓\n",
      "85000 85% (2m 3s) 3.5837 Anini-y / Japan ✗ (Philippines)\n",
      "90000 90% (2m 10s) 1.0851 Disuq / Egypt ✓\n",
      "95000 95% (2m 17s) 0.7072 Naqadah / Egypt ✓\n",
      "100000 100% (2m 24s) 4.8373 Sandiacre / Slovakia ✗ (United Kingdom)\n"
     ]
    }
   ],
   "source": [
    "criterion = nn.NLLLoss() # Because we are using Log_softmax\n",
    "learning_rate = 0.005 # If you set this too high, it might explode. If too low, it might not learn\n",
    "N_HIDDEN = 128\n",
    "\n",
    "model_pytorch = RNNPytorch(n_letters, N_HIDDEN, n_categories) #Vocab_size, hidden size, output classes\n",
    "model_pytorch = model_pytorch.to(device)\n",
    "optimizer = optim.SGD(model_pytorch.parameters(), lr=learning_rate)\n",
    "\n",
    "# Keep track of losses for plotting\n",
    "current_loss = 0\n",
    "all_losses = []\n",
    "\n",
    "start = time.time()\n",
    "\n",
    "for iter in range(1, n_iters + 1):\n",
    "    category, line, category_tensor, line_tensor = randomTrainingExample()\n",
    "    output, loss = train_pytorch_model(category_tensor, line_tensor, optimizer, criterion, model_pytorch)\n",
    "    current_loss += loss\n",
    "    # Print iter number, loss, name and guess\n",
    "    if iter % print_every == 0:\n",
    "        guess, guess_i = categoryFromOutput(output)\n",
    "        correct = '✓' if guess == category else '✗ (%s)' % category\n",
    "        print('%d %d%% (%s) %.4f %s / %s %s' % (iter, iter / n_iters * 100, timeSince(start), loss, line, guess, correct))\n",
    "\n",
    "    # Add current loss avg to list of losses\n",
    "    if iter % plot_every == 0:\n",
    "        all_losses.append(current_loss / plot_every)\n",
    "        current_loss = 0"
   ]
  },
  {
   "cell_type": "code",
   "execution_count": 179,
   "metadata": {},
   "outputs": [
    {
     "data": {
      "text/plain": [
       "[<matplotlib.lines.Line2D at 0x1ba72164ee0>]"
      ]
     },
     "execution_count": 179,
     "metadata": {},
     "output_type": "execute_result"
    },
    {
     "data": {
      "image/png": "[encoded data removed]",
      "text/plain": [
       "<Figure size 432x288 with 1 Axes>"
      ]
     },
     "metadata": {
      "needs_background": "light"
     },
     "output_type": "display_data"
    }
   ],
   "source": [
    "# PLOT THE RESULT\n",
    "\n",
    "import matplotlib.pyplot as plt\n",
    "import matplotlib.ticker as ticker\n",
    "\n",
    "plt.figure()\n",
    "plt.plot(all_losses)"
   ]
  },
  {
   "cell_type": "code",
   "execution_count": null,
   "metadata": {},
   "outputs": [
    {
     "name": "stdout",
     "output_type": "stream",
     "text": [
      "\n",
      "> New York\n",
      "(-1.56) Russia\n",
      "(-1.98) Poland\n",
      "(-2.33) Hungary\n",
      "\n",
      "> Stockholm\n",
      "(-1.59) Hungary\n",
      "(-2.49) Iran\n",
      "(-2.55) Ukraine\n",
      "\n",
      "> London\n",
      "(-1.34) United Kingdom\n",
      "(-2.01) South Africa\n",
      "(-2.14) Australia\n",
      "\n",
      "> Iraq\n",
      "(-1.73) Kazakhstan\n",
      "(-1.80) Egypt\n",
      "(-2.38) Syria\n"
     ]
    }
   ],
   "source": [
    "def evaluate(line_tensor, model):\n",
    "    model.eval()\n",
    "    hidden = model.initHidden()\n",
    "    hidden = hidden.to(device)\n",
    "\n",
    "    line_tensor = line_tensor.permute(1, 0, 2)\n",
    "    line_tensor = line_tensor.to(device)\n",
    "    output, hidden = model(line_tensor, hidden)\n",
    "    \n",
    "    return output\n",
    "\n",
    "\n",
    "def predict(input_line, n_predictions=3):\n",
    "    print('\\n> %s' % input_line)\n",
    "    with torch.no_grad():\n",
    "        output = evaluate(lineToTensor(input_line), model_pytorch)\n",
    "\n",
    "        # Get top N categories\n",
    "        topv, topi = output.topk(n_predictions, 1, True)\n",
    "        predictions = []\n",
    "\n",
    "        for i in range(n_predictions):\n",
    "            value = topv[0][i].item()\n",
    "            category_index = topi[0][i].item()\n",
    "            print('(%.2f) %s' % (value, all_countries[category_index]))\n",
    "            predictions.append([value, all_countries[category_index]])\n",
    "\n",
    "predict('New York')\n",
    "predict('Stockholm')\n",
    "predict('London')\n",
    "predict('Iraq')"
   ]
  },
  {
   "cell_type": "markdown",
   "metadata": {},
   "source": [
    "## GRU Net"
   ]
  },
  {
   "cell_type": "code",
   "execution_count": 181,
   "metadata": {},
   "outputs": [],
   "source": [
    "class RNNPytorch(nn.Module):\n",
    "    def __init__(self, input_size, hidden_size, output_size):\n",
    "        super(RNNPytorch, self).__init__()\n",
    "\n",
    "        self.hidden_size = hidden_size\n",
    "        \n",
    "        self.rnn = nn.GRU(input_size, hidden_size, num_layers=1, batch_first=True) # 1 is num_layers\n",
    "        self.fc = nn.Linear(hidden_size, output_size)\n",
    "        self.lsoftmax = nn.LogSoftmax(dim=1)\n",
    "\n",
    "    def forward(self, x, hidden):\n",
    "\n",
    "        hidden, output = self.rnn(x, hidden)\n",
    "\n",
    "        output = output.contiguous().view(-1, self.hidden_size)\n",
    "        output = self.fc(output)\n",
    "        output = self.lsoftmax(output)\n",
    "        \n",
    "        return output, hidden\n",
    "\n",
    "    def initHidden(self):\n",
    "        return torch.zeros(1, 1, self.hidden_size)\n",
    "\n",
    "def train_pytorch_model(category_tensor, line_tensor, optim, criterion, model):\n",
    "    \n",
    "    model.train()\n",
    "    hidden = model.initHidden()\n",
    "    model.zero_grad()\n",
    "    line_tensor = line_tensor.permute(1, 0, 2)    \n",
    "    \n",
    "    category_tensor = category_tensor.to(device)\n",
    "    line_tensor = line_tensor.to(device)\n",
    "    \n",
    "    # Iterate through the whole line!\n",
    "    hidden = hidden.to(device)\n",
    "    output, hidden = model(line_tensor, hidden)\n",
    "\n",
    "    loss = criterion(output, torch.topk(category_tensor, 1).indices.view(-1))\n",
    "    \n",
    "    # zero the parameter gradients\n",
    "    optim.zero_grad()\n",
    "    loss.backward()\n",
    "    optim.step()\n",
    "\n",
    "    return output, loss.item()"
   ]
  },
  {
   "cell_type": "markdown",
   "metadata": {},
   "source": [
    "### Training "
   ]
  },
  {
   "cell_type": "code",
   "execution_count": 190,
   "metadata": {},
   "outputs": [
    {
     "name": "stdout",
     "output_type": "stream",
     "text": [
      "5000 5% (0m 7s) 3.7267 Triuggio / Italy ✓\n",
      "10000 10% (0m 14s) 3.8601 As / Belgium ✗ (Norway)\n",
      "15000 15% (0m 21s) 3.9834 Dabas / Portugal ✗ (Hungary)\n",
      "20000 20% (0m 28s) 4.0409 Setif / Switzerland ✗ (Algeria)\n",
      "25000 25% (0m 35s) 3.7849 Kuchinarai / India ✗ (Thailand)\n",
      "30000 30% (0m 42s) 3.1673 Offenbach an der Queich / Belgium ✗ (Germany)\n",
      "35000 35% (0m 49s) 3.4662 Nord-Fron / Germany ✗ (Norway)\n",
      "40000 40% (0m 56s) 3.3429 Vossevangen / Germany ✗ (Norway)\n",
      "45000 45% (1m 3s) 3.4572 Waterford / Netherlands ✗ (Australia)\n",
      "50000 50% (1m 11s) 3.7925 Moncada / Peru ✗ (Philippines)\n",
      "55000 55% (1m 18s) 3.9642 Hostos / Argentina ✗ (Dominican Republic)\n",
      "60000 60% (1m 26s) 4.0475 Comox / Slovakia ✗ (Canada)\n",
      "65000 65% (1m 32s) 3.4738 Drouin / China ✗ (Australia)\n",
      "70000 70% (1m 39s) 1.8581 Villa Tapia / Dominican Republic ✓\n",
      "75000 75% (1m 46s) 4.1292 Mol / Philippines ✗ (Belgium)\n",
      "80000 80% (1m 53s) 4.2665 Saumalkol / Philippines ✗ (Kazakhstan)\n",
      "85000 85% (2m 0s) 2.3168 Gowerton / United Kingdom ✓\n",
      "90000 90% (2m 7s) 2.6066 Karak / Kazakhstan ✗ (Pakistan)\n",
      "95000 95% (2m 15s) 4.6737 Bordj Menaiel / France ✗ (Algeria)\n",
      "100000 100% (2m 22s) 1.9031 Almaty / Kazakhstan ✓\n"
     ]
    }
   ],
   "source": [
    "criterion = nn.NLLLoss() # Because we are using Log_softmax\n",
    "learning_rate = 0.005 # If you set this too high, it might explode. If too low, it might not learn\n",
    "N_HIDDEN = 128\n",
    "\n",
    "model_gru = RNNPytorch(n_letters, N_HIDDEN, n_categories) #Vocab_size, hidden size, output classes\n",
    "model_gru = model_gru.to(device)\n",
    "optimizer = optim.SGD(model_gru.parameters(), lr=learning_rate)\n",
    "\n",
    "# Keep track of losses for plotting\n",
    "current_loss = 0\n",
    "all_losses = []\n",
    "\n",
    "start = time.time()\n",
    "\n",
    "for iter in range(1, n_iters + 1):\n",
    "    category, line, category_tensor, line_tensor = randomTrainingExample()\n",
    "    output, loss = train_pytorch_model(category_tensor, line_tensor, optimizer, criterion, model_gru)\n",
    "    current_loss += loss\n",
    "    # Print iter number, loss, name and guess\n",
    "    if iter % print_every == 0:\n",
    "        guess, guess_i = categoryFromOutput(output)\n",
    "        correct = '✓' if guess == category else '✗ (%s)' % category\n",
    "        print('%d %d%% (%s) %.4f %s / %s %s' % (iter, iter / n_iters * 100, timeSince(start), loss, line, guess, correct))\n",
    "\n",
    "    # Add current loss avg to list of losses\n",
    "    if iter % plot_every == 0:\n",
    "        all_losses.append(current_loss / plot_every)\n",
    "        current_loss = 0"
   ]
  },
  {
   "cell_type": "code",
   "execution_count": 191,
   "metadata": {},
   "outputs": [
    {
     "data": {
      "text/plain": [
       "[<matplotlib.lines.Line2D at 0x1ba6f574b50>]"
      ]
     },
     "execution_count": 191,
     "metadata": {},
     "output_type": "execute_result"
    },
    {
     "data": {
      "image/png": "[encoded data removed]",
      "text/plain": [
       "<Figure size 432x288 with 1 Axes>"
      ]
     },
     "metadata": {
      "needs_background": "light"
     },
     "output_type": "display_data"
    }
   ],
   "source": [
    "# PLOT THE RESULT\n",
    "\n",
    "import matplotlib.pyplot as plt\n",
    "import matplotlib.ticker as ticker\n",
    "\n",
    "plt.figure()\n",
    "plt.plot(all_losses)"
   ]
  },
  {
   "cell_type": "code",
   "execution_count": 193,
   "metadata": {},
   "outputs": [
    {
     "name": "stdout",
     "output_type": "stream",
     "text": [
      "\n",
      "> New York\n",
      "(-2.22) Russia\n",
      "(-2.26) Kazakhstan\n",
      "(-2.52) Norway\n",
      "\n",
      "> Stockholm\n",
      "(-1.99) Russia\n",
      "(-2.34) Norway\n",
      "(-2.56) United Kingdom\n",
      "\n",
      "> London\n",
      "(-2.37) South Africa\n",
      "(-2.41) United Kingdom\n",
      "(-2.73) Netherlands\n",
      "\n",
      "> Iraq\n",
      "(-2.35) Egypt\n",
      "(-2.39) Syria\n",
      "(-2.62) Iran\n"
     ]
    }
   ],
   "source": [
    "def evaluate(line_tensor, model):\n",
    "    model.eval()\n",
    "    hidden = model.initHidden()\n",
    "    hidden = hidden.to(device)\n",
    "\n",
    "    line_tensor = line_tensor.permute(1, 0, 2)\n",
    "    line_tensor = line_tensor.to(device)\n",
    "    output, hidden = model(line_tensor, hidden)\n",
    "    \n",
    "    return output\n",
    "\n",
    "def predict(input_line, n_predictions=3):\n",
    "    print('\\n> %s' % input_line)\n",
    "    with torch.no_grad():\n",
    "        output = evaluate(lineToTensor(input_line), model_gru)\n",
    "\n",
    "        # Get top N categories\n",
    "        topv, topi = output.topk(n_predictions, 1, True)\n",
    "        predictions = []\n",
    "\n",
    "        for i in range(n_predictions):\n",
    "            value = topv[0][i].item()\n",
    "            category_index = topi[0][i].item()\n",
    "            print('(%.2f) %s' % (value, all_countries[category_index]))\n",
    "            predictions.append([value, all_countries[category_index]])\n",
    "\n",
    "predict('New York')\n",
    "predict('Stockholm')\n",
    "predict('London')\n",
    "predict('Iraq')"
   ]
  },
  {
   "cell_type": "code",
   "execution_count": null,
   "metadata": {},
   "outputs": [],
   "source": []
  }
 ],
 "metadata": {
  "interpreter": {
   "hash": "53e10ef9a4a07817da7b339c1ff1fa97ba0660b27848e973d3957442a75fa000"
  },
  "kernelspec": {
   "display_name": "Python 3.8.5 ('mau-aml-labs-qgR6-ufm-py3.8')",
   "language": "python",
   "name": "python3"
  },
  "language_info": {
   "name": "python",
   "version": "3.8.5"
  },
  "orig_nbformat": 4
 },
 "nbformat": 4,
 "nbformat_minor": 2
}
